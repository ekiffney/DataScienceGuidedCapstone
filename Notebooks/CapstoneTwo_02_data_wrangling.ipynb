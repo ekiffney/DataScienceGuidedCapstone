{
 "cells": [
  {
   "cell_type": "markdown",
   "metadata": {},
   "source": [
    "# Step 2 - Data Wrangling"
   ]
  },
  {
   "cell_type": "markdown",
   "metadata": {},
   "source": [
    "### Imports"
   ]
  },
  {
   "cell_type": "code",
   "execution_count": 1,
   "metadata": {},
   "outputs": [],
   "source": [
    "import pandas as pd\n",
    "import numpy as np\n",
    "import matplotlib.pyplot as plt\n",
    "import seaborn as sns\n",
    "import os\n",
    "\n",
    "from library.sb_utils import save_file"
   ]
  },
  {
   "cell_type": "markdown",
   "metadata": {},
   "source": [
    "### Load Data"
   ]
  },
  {
   "cell_type": "code",
   "execution_count": 2,
   "metadata": {},
   "outputs": [],
   "source": [
    "car_data = pd.read_csv('../raw_data/car_price_data.csv')"
   ]
  },
  {
   "cell_type": "code",
   "execution_count": 3,
   "metadata": {},
   "outputs": [
    {
     "name": "stdout",
     "output_type": "stream",
     "text": [
      "<class 'pandas.core.frame.DataFrame'>\n",
      "RangeIndex: 11914 entries, 0 to 11913\n",
      "Data columns (total 16 columns):\n",
      " #   Column             Non-Null Count  Dtype  \n",
      "---  ------             --------------  -----  \n",
      " 0   Make               11914 non-null  object \n",
      " 1   Model              11914 non-null  object \n",
      " 2   Year               11914 non-null  int64  \n",
      " 3   Engine Fuel Type   11911 non-null  object \n",
      " 4   Engine HP          11845 non-null  float64\n",
      " 5   Engine Cylinders   11884 non-null  float64\n",
      " 6   Transmission Type  11914 non-null  object \n",
      " 7   Driven_Wheels      11914 non-null  object \n",
      " 8   Number of Doors    11908 non-null  float64\n",
      " 9   Market Category    8172 non-null   object \n",
      " 10  Vehicle Size       11914 non-null  object \n",
      " 11  Vehicle Style      11914 non-null  object \n",
      " 12  highway MPG        11914 non-null  int64  \n",
      " 13  city mpg           11914 non-null  int64  \n",
      " 14  Popularity         11914 non-null  int64  \n",
      " 15  MSRP               11914 non-null  int64  \n",
      "dtypes: float64(3), int64(5), object(8)\n",
      "memory usage: 1.5+ MB\n"
     ]
    }
   ],
   "source": [
    "car_data.info()"
   ]
  },
  {
   "cell_type": "code",
   "execution_count": 4,
   "metadata": {
    "scrolled": true
   },
   "outputs": [
    {
     "data": {
      "text/html": [
       "<div>\n",
       "<style scoped>\n",
       "    .dataframe tbody tr th:only-of-type {\n",
       "        vertical-align: middle;\n",
       "    }\n",
       "\n",
       "    .dataframe tbody tr th {\n",
       "        vertical-align: top;\n",
       "    }\n",
       "\n",
       "    .dataframe thead th {\n",
       "        text-align: right;\n",
       "    }\n",
       "</style>\n",
       "<table border=\"1\" class=\"dataframe\">\n",
       "  <thead>\n",
       "    <tr style=\"text-align: right;\">\n",
       "      <th></th>\n",
       "      <th>Make</th>\n",
       "      <th>Model</th>\n",
       "      <th>Year</th>\n",
       "      <th>Engine Fuel Type</th>\n",
       "      <th>Engine HP</th>\n",
       "      <th>Engine Cylinders</th>\n",
       "      <th>Transmission Type</th>\n",
       "      <th>Driven_Wheels</th>\n",
       "      <th>Number of Doors</th>\n",
       "      <th>Market Category</th>\n",
       "      <th>Vehicle Size</th>\n",
       "      <th>Vehicle Style</th>\n",
       "      <th>highway MPG</th>\n",
       "      <th>city mpg</th>\n",
       "      <th>Popularity</th>\n",
       "      <th>MSRP</th>\n",
       "    </tr>\n",
       "  </thead>\n",
       "  <tbody>\n",
       "    <tr>\n",
       "      <th>0</th>\n",
       "      <td>BMW</td>\n",
       "      <td>1 Series M</td>\n",
       "      <td>2011</td>\n",
       "      <td>premium unleaded (required)</td>\n",
       "      <td>335.0</td>\n",
       "      <td>6.0</td>\n",
       "      <td>MANUAL</td>\n",
       "      <td>rear wheel drive</td>\n",
       "      <td>2.0</td>\n",
       "      <td>Factory Tuner,Luxury,High-Performance</td>\n",
       "      <td>Compact</td>\n",
       "      <td>Coupe</td>\n",
       "      <td>26</td>\n",
       "      <td>19</td>\n",
       "      <td>3916</td>\n",
       "      <td>46135</td>\n",
       "    </tr>\n",
       "    <tr>\n",
       "      <th>1</th>\n",
       "      <td>BMW</td>\n",
       "      <td>1 Series</td>\n",
       "      <td>2011</td>\n",
       "      <td>premium unleaded (required)</td>\n",
       "      <td>300.0</td>\n",
       "      <td>6.0</td>\n",
       "      <td>MANUAL</td>\n",
       "      <td>rear wheel drive</td>\n",
       "      <td>2.0</td>\n",
       "      <td>Luxury,Performance</td>\n",
       "      <td>Compact</td>\n",
       "      <td>Convertible</td>\n",
       "      <td>28</td>\n",
       "      <td>19</td>\n",
       "      <td>3916</td>\n",
       "      <td>40650</td>\n",
       "    </tr>\n",
       "    <tr>\n",
       "      <th>2</th>\n",
       "      <td>BMW</td>\n",
       "      <td>1 Series</td>\n",
       "      <td>2011</td>\n",
       "      <td>premium unleaded (required)</td>\n",
       "      <td>300.0</td>\n",
       "      <td>6.0</td>\n",
       "      <td>MANUAL</td>\n",
       "      <td>rear wheel drive</td>\n",
       "      <td>2.0</td>\n",
       "      <td>Luxury,High-Performance</td>\n",
       "      <td>Compact</td>\n",
       "      <td>Coupe</td>\n",
       "      <td>28</td>\n",
       "      <td>20</td>\n",
       "      <td>3916</td>\n",
       "      <td>36350</td>\n",
       "    </tr>\n",
       "    <tr>\n",
       "      <th>3</th>\n",
       "      <td>BMW</td>\n",
       "      <td>1 Series</td>\n",
       "      <td>2011</td>\n",
       "      <td>premium unleaded (required)</td>\n",
       "      <td>230.0</td>\n",
       "      <td>6.0</td>\n",
       "      <td>MANUAL</td>\n",
       "      <td>rear wheel drive</td>\n",
       "      <td>2.0</td>\n",
       "      <td>Luxury,Performance</td>\n",
       "      <td>Compact</td>\n",
       "      <td>Coupe</td>\n",
       "      <td>28</td>\n",
       "      <td>18</td>\n",
       "      <td>3916</td>\n",
       "      <td>29450</td>\n",
       "    </tr>\n",
       "    <tr>\n",
       "      <th>4</th>\n",
       "      <td>BMW</td>\n",
       "      <td>1 Series</td>\n",
       "      <td>2011</td>\n",
       "      <td>premium unleaded (required)</td>\n",
       "      <td>230.0</td>\n",
       "      <td>6.0</td>\n",
       "      <td>MANUAL</td>\n",
       "      <td>rear wheel drive</td>\n",
       "      <td>2.0</td>\n",
       "      <td>Luxury</td>\n",
       "      <td>Compact</td>\n",
       "      <td>Convertible</td>\n",
       "      <td>28</td>\n",
       "      <td>18</td>\n",
       "      <td>3916</td>\n",
       "      <td>34500</td>\n",
       "    </tr>\n",
       "  </tbody>\n",
       "</table>\n",
       "</div>"
      ],
      "text/plain": [
       "  Make       Model  Year             Engine Fuel Type  Engine HP  \\\n",
       "0  BMW  1 Series M  2011  premium unleaded (required)      335.0   \n",
       "1  BMW    1 Series  2011  premium unleaded (required)      300.0   \n",
       "2  BMW    1 Series  2011  premium unleaded (required)      300.0   \n",
       "3  BMW    1 Series  2011  premium unleaded (required)      230.0   \n",
       "4  BMW    1 Series  2011  premium unleaded (required)      230.0   \n",
       "\n",
       "   Engine Cylinders Transmission Type     Driven_Wheels  Number of Doors  \\\n",
       "0               6.0            MANUAL  rear wheel drive              2.0   \n",
       "1               6.0            MANUAL  rear wheel drive              2.0   \n",
       "2               6.0            MANUAL  rear wheel drive              2.0   \n",
       "3               6.0            MANUAL  rear wheel drive              2.0   \n",
       "4               6.0            MANUAL  rear wheel drive              2.0   \n",
       "\n",
       "                         Market Category Vehicle Size Vehicle Style  \\\n",
       "0  Factory Tuner,Luxury,High-Performance      Compact         Coupe   \n",
       "1                     Luxury,Performance      Compact   Convertible   \n",
       "2                Luxury,High-Performance      Compact         Coupe   \n",
       "3                     Luxury,Performance      Compact         Coupe   \n",
       "4                                 Luxury      Compact   Convertible   \n",
       "\n",
       "   highway MPG  city mpg  Popularity   MSRP  \n",
       "0           26        19        3916  46135  \n",
       "1           28        19        3916  40650  \n",
       "2           28        20        3916  36350  \n",
       "3           28        18        3916  29450  \n",
       "4           28        18        3916  34500  "
      ]
     },
     "execution_count": 4,
     "metadata": {},
     "output_type": "execute_result"
    }
   ],
   "source": [
    "#Call the head method to print the first several rows of the data\n",
    "car_data.head()"
   ]
  },
  {
   "cell_type": "markdown",
   "metadata": {},
   "source": [
    "# Explore The Data<a id='2.6_Explore_The_Data'></a>"
   ]
  },
  {
   "cell_type": "markdown",
   "metadata": {},
   "source": [
    "### Filter by make"
   ]
  },
  {
   "cell_type": "code",
   "execution_count": 5,
   "metadata": {},
   "outputs": [
    {
     "data": {
      "text/html": [
       "<div>\n",
       "<style scoped>\n",
       "    .dataframe tbody tr th:only-of-type {\n",
       "        vertical-align: middle;\n",
       "    }\n",
       "\n",
       "    .dataframe tbody tr th {\n",
       "        vertical-align: top;\n",
       "    }\n",
       "\n",
       "    .dataframe thead th {\n",
       "        text-align: right;\n",
       "    }\n",
       "</style>\n",
       "<table border=\"1\" class=\"dataframe\">\n",
       "  <thead>\n",
       "    <tr style=\"text-align: right;\">\n",
       "      <th></th>\n",
       "      <th>112</th>\n",
       "      <th>113</th>\n",
       "      <th>114</th>\n",
       "      <th>115</th>\n",
       "      <th>116</th>\n",
       "      <th>117</th>\n",
       "      <th>118</th>\n",
       "      <th>119</th>\n",
       "      <th>120</th>\n",
       "      <th>121</th>\n",
       "      <th>...</th>\n",
       "      <th>10836</th>\n",
       "      <th>10837</th>\n",
       "      <th>10838</th>\n",
       "      <th>10839</th>\n",
       "      <th>10840</th>\n",
       "      <th>10841</th>\n",
       "      <th>10842</th>\n",
       "      <th>10843</th>\n",
       "      <th>10844</th>\n",
       "      <th>10845</th>\n",
       "    </tr>\n",
       "  </thead>\n",
       "  <tbody>\n",
       "    <tr>\n",
       "      <th>Make</th>\n",
       "      <td>Mazda</td>\n",
       "      <td>Mazda</td>\n",
       "      <td>Mazda</td>\n",
       "      <td>Mazda</td>\n",
       "      <td>Mazda</td>\n",
       "      <td>Mazda</td>\n",
       "      <td>Mazda</td>\n",
       "      <td>Mazda</td>\n",
       "      <td>Mazda</td>\n",
       "      <td>Mazda</td>\n",
       "      <td>...</td>\n",
       "      <td>Mazda</td>\n",
       "      <td>Mazda</td>\n",
       "      <td>Mazda</td>\n",
       "      <td>Mazda</td>\n",
       "      <td>Mazda</td>\n",
       "      <td>Mazda</td>\n",
       "      <td>Mazda</td>\n",
       "      <td>Mazda</td>\n",
       "      <td>Mazda</td>\n",
       "      <td>Mazda</td>\n",
       "    </tr>\n",
       "    <tr>\n",
       "      <th>Model</th>\n",
       "      <td>2</td>\n",
       "      <td>2</td>\n",
       "      <td>2</td>\n",
       "      <td>2</td>\n",
       "      <td>2</td>\n",
       "      <td>2</td>\n",
       "      <td>2</td>\n",
       "      <td>2</td>\n",
       "      <td>2</td>\n",
       "      <td>2</td>\n",
       "      <td>...</td>\n",
       "      <td>Truck</td>\n",
       "      <td>Truck</td>\n",
       "      <td>Truck</td>\n",
       "      <td>Truck</td>\n",
       "      <td>Truck</td>\n",
       "      <td>Truck</td>\n",
       "      <td>Truck</td>\n",
       "      <td>Truck</td>\n",
       "      <td>Truck</td>\n",
       "      <td>Truck</td>\n",
       "    </tr>\n",
       "    <tr>\n",
       "      <th>Year</th>\n",
       "      <td>2012</td>\n",
       "      <td>2012</td>\n",
       "      <td>2012</td>\n",
       "      <td>2012</td>\n",
       "      <td>2013</td>\n",
       "      <td>2013</td>\n",
       "      <td>2013</td>\n",
       "      <td>2013</td>\n",
       "      <td>2014</td>\n",
       "      <td>2014</td>\n",
       "      <td>...</td>\n",
       "      <td>2002</td>\n",
       "      <td>2003</td>\n",
       "      <td>2003</td>\n",
       "      <td>2003</td>\n",
       "      <td>2003</td>\n",
       "      <td>2003</td>\n",
       "      <td>2003</td>\n",
       "      <td>2003</td>\n",
       "      <td>2003</td>\n",
       "      <td>2003</td>\n",
       "    </tr>\n",
       "    <tr>\n",
       "      <th>Engine Fuel Type</th>\n",
       "      <td>regular unleaded</td>\n",
       "      <td>regular unleaded</td>\n",
       "      <td>regular unleaded</td>\n",
       "      <td>regular unleaded</td>\n",
       "      <td>regular unleaded</td>\n",
       "      <td>regular unleaded</td>\n",
       "      <td>regular unleaded</td>\n",
       "      <td>regular unleaded</td>\n",
       "      <td>regular unleaded</td>\n",
       "      <td>regular unleaded</td>\n",
       "      <td>...</td>\n",
       "      <td>regular unleaded</td>\n",
       "      <td>regular unleaded</td>\n",
       "      <td>regular unleaded</td>\n",
       "      <td>regular unleaded</td>\n",
       "      <td>regular unleaded</td>\n",
       "      <td>regular unleaded</td>\n",
       "      <td>regular unleaded</td>\n",
       "      <td>regular unleaded</td>\n",
       "      <td>regular unleaded</td>\n",
       "      <td>regular unleaded</td>\n",
       "    </tr>\n",
       "    <tr>\n",
       "      <th>Engine HP</th>\n",
       "      <td>100.0</td>\n",
       "      <td>100.0</td>\n",
       "      <td>100.0</td>\n",
       "      <td>100.0</td>\n",
       "      <td>100.0</td>\n",
       "      <td>100.0</td>\n",
       "      <td>100.0</td>\n",
       "      <td>100.0</td>\n",
       "      <td>100.0</td>\n",
       "      <td>100.0</td>\n",
       "      <td>...</td>\n",
       "      <td>147.0</td>\n",
       "      <td>207.0</td>\n",
       "      <td>207.0</td>\n",
       "      <td>147.0</td>\n",
       "      <td>147.0</td>\n",
       "      <td>135.0</td>\n",
       "      <td>207.0</td>\n",
       "      <td>147.0</td>\n",
       "      <td>135.0</td>\n",
       "      <td>207.0</td>\n",
       "    </tr>\n",
       "    <tr>\n",
       "      <th>Engine Cylinders</th>\n",
       "      <td>4.0</td>\n",
       "      <td>4.0</td>\n",
       "      <td>4.0</td>\n",
       "      <td>4.0</td>\n",
       "      <td>4.0</td>\n",
       "      <td>4.0</td>\n",
       "      <td>4.0</td>\n",
       "      <td>4.0</td>\n",
       "      <td>4.0</td>\n",
       "      <td>4.0</td>\n",
       "      <td>...</td>\n",
       "      <td>6.0</td>\n",
       "      <td>6.0</td>\n",
       "      <td>6.0</td>\n",
       "      <td>6.0</td>\n",
       "      <td>6.0</td>\n",
       "      <td>4.0</td>\n",
       "      <td>6.0</td>\n",
       "      <td>6.0</td>\n",
       "      <td>4.0</td>\n",
       "      <td>6.0</td>\n",
       "    </tr>\n",
       "    <tr>\n",
       "      <th>Transmission Type</th>\n",
       "      <td>MANUAL</td>\n",
       "      <td>MANUAL</td>\n",
       "      <td>AUTOMATIC</td>\n",
       "      <td>AUTOMATIC</td>\n",
       "      <td>AUTOMATIC</td>\n",
       "      <td>AUTOMATIC</td>\n",
       "      <td>MANUAL</td>\n",
       "      <td>MANUAL</td>\n",
       "      <td>AUTOMATIC</td>\n",
       "      <td>AUTOMATIC</td>\n",
       "      <td>...</td>\n",
       "      <td>MANUAL</td>\n",
       "      <td>MANUAL</td>\n",
       "      <td>MANUAL</td>\n",
       "      <td>MANUAL</td>\n",
       "      <td>MANUAL</td>\n",
       "      <td>MANUAL</td>\n",
       "      <td>MANUAL</td>\n",
       "      <td>MANUAL</td>\n",
       "      <td>MANUAL</td>\n",
       "      <td>MANUAL</td>\n",
       "    </tr>\n",
       "    <tr>\n",
       "      <th>Driven_Wheels</th>\n",
       "      <td>front wheel drive</td>\n",
       "      <td>front wheel drive</td>\n",
       "      <td>front wheel drive</td>\n",
       "      <td>front wheel drive</td>\n",
       "      <td>front wheel drive</td>\n",
       "      <td>front wheel drive</td>\n",
       "      <td>front wheel drive</td>\n",
       "      <td>front wheel drive</td>\n",
       "      <td>front wheel drive</td>\n",
       "      <td>front wheel drive</td>\n",
       "      <td>...</td>\n",
       "      <td>four wheel drive</td>\n",
       "      <td>four wheel drive</td>\n",
       "      <td>four wheel drive</td>\n",
       "      <td>rear wheel drive</td>\n",
       "      <td>rear wheel drive</td>\n",
       "      <td>rear wheel drive</td>\n",
       "      <td>rear wheel drive</td>\n",
       "      <td>rear wheel drive</td>\n",
       "      <td>rear wheel drive</td>\n",
       "      <td>four wheel drive</td>\n",
       "    </tr>\n",
       "    <tr>\n",
       "      <th>Number of Doors</th>\n",
       "      <td>4.0</td>\n",
       "      <td>4.0</td>\n",
       "      <td>4.0</td>\n",
       "      <td>4.0</td>\n",
       "      <td>4.0</td>\n",
       "      <td>4.0</td>\n",
       "      <td>4.0</td>\n",
       "      <td>4.0</td>\n",
       "      <td>4.0</td>\n",
       "      <td>4.0</td>\n",
       "      <td>...</td>\n",
       "      <td>2.0</td>\n",
       "      <td>2.0</td>\n",
       "      <td>4.0</td>\n",
       "      <td>2.0</td>\n",
       "      <td>4.0</td>\n",
       "      <td>2.0</td>\n",
       "      <td>4.0</td>\n",
       "      <td>2.0</td>\n",
       "      <td>2.0</td>\n",
       "      <td>2.0</td>\n",
       "    </tr>\n",
       "    <tr>\n",
       "      <th>Market Category</th>\n",
       "      <td>Hatchback</td>\n",
       "      <td>Hatchback</td>\n",
       "      <td>Hatchback</td>\n",
       "      <td>Hatchback</td>\n",
       "      <td>Hatchback</td>\n",
       "      <td>Hatchback</td>\n",
       "      <td>Hatchback</td>\n",
       "      <td>Hatchback</td>\n",
       "      <td>Hatchback</td>\n",
       "      <td>Hatchback</td>\n",
       "      <td>...</td>\n",
       "      <td>NaN</td>\n",
       "      <td>NaN</td>\n",
       "      <td>NaN</td>\n",
       "      <td>NaN</td>\n",
       "      <td>NaN</td>\n",
       "      <td>NaN</td>\n",
       "      <td>NaN</td>\n",
       "      <td>NaN</td>\n",
       "      <td>NaN</td>\n",
       "      <td>NaN</td>\n",
       "    </tr>\n",
       "    <tr>\n",
       "      <th>Vehicle Size</th>\n",
       "      <td>Compact</td>\n",
       "      <td>Compact</td>\n",
       "      <td>Compact</td>\n",
       "      <td>Compact</td>\n",
       "      <td>Compact</td>\n",
       "      <td>Compact</td>\n",
       "      <td>Compact</td>\n",
       "      <td>Compact</td>\n",
       "      <td>Compact</td>\n",
       "      <td>Compact</td>\n",
       "      <td>...</td>\n",
       "      <td>Compact</td>\n",
       "      <td>Compact</td>\n",
       "      <td>Compact</td>\n",
       "      <td>Compact</td>\n",
       "      <td>Compact</td>\n",
       "      <td>Compact</td>\n",
       "      <td>Compact</td>\n",
       "      <td>Compact</td>\n",
       "      <td>Compact</td>\n",
       "      <td>Compact</td>\n",
       "    </tr>\n",
       "    <tr>\n",
       "      <th>Vehicle Style</th>\n",
       "      <td>4dr Hatchback</td>\n",
       "      <td>4dr Hatchback</td>\n",
       "      <td>4dr Hatchback</td>\n",
       "      <td>4dr Hatchback</td>\n",
       "      <td>4dr Hatchback</td>\n",
       "      <td>4dr Hatchback</td>\n",
       "      <td>4dr Hatchback</td>\n",
       "      <td>4dr Hatchback</td>\n",
       "      <td>4dr Hatchback</td>\n",
       "      <td>4dr Hatchback</td>\n",
       "      <td>...</td>\n",
       "      <td>Extended Cab Pickup</td>\n",
       "      <td>Extended Cab Pickup</td>\n",
       "      <td>Extended Cab Pickup</td>\n",
       "      <td>Regular Cab Pickup</td>\n",
       "      <td>Extended Cab Pickup</td>\n",
       "      <td>Regular Cab Pickup</td>\n",
       "      <td>Extended Cab Pickup</td>\n",
       "      <td>Extended Cab Pickup</td>\n",
       "      <td>Extended Cab Pickup</td>\n",
       "      <td>Extended Cab Pickup</td>\n",
       "    </tr>\n",
       "    <tr>\n",
       "      <th>highway MPG</th>\n",
       "      <td>35</td>\n",
       "      <td>35</td>\n",
       "      <td>34</td>\n",
       "      <td>34</td>\n",
       "      <td>34</td>\n",
       "      <td>34</td>\n",
       "      <td>35</td>\n",
       "      <td>35</td>\n",
       "      <td>34</td>\n",
       "      <td>34</td>\n",
       "      <td>...</td>\n",
       "      <td>20</td>\n",
       "      <td>17</td>\n",
       "      <td>17</td>\n",
       "      <td>21</td>\n",
       "      <td>21</td>\n",
       "      <td>26</td>\n",
       "      <td>20</td>\n",
       "      <td>21</td>\n",
       "      <td>26</td>\n",
       "      <td>17</td>\n",
       "    </tr>\n",
       "    <tr>\n",
       "      <th>city mpg</th>\n",
       "      <td>29</td>\n",
       "      <td>29</td>\n",
       "      <td>28</td>\n",
       "      <td>28</td>\n",
       "      <td>28</td>\n",
       "      <td>28</td>\n",
       "      <td>29</td>\n",
       "      <td>29</td>\n",
       "      <td>28</td>\n",
       "      <td>28</td>\n",
       "      <td>...</td>\n",
       "      <td>16</td>\n",
       "      <td>14</td>\n",
       "      <td>14</td>\n",
       "      <td>17</td>\n",
       "      <td>17</td>\n",
       "      <td>21</td>\n",
       "      <td>15</td>\n",
       "      <td>17</td>\n",
       "      <td>21</td>\n",
       "      <td>14</td>\n",
       "    </tr>\n",
       "    <tr>\n",
       "      <th>Popularity</th>\n",
       "      <td>586</td>\n",
       "      <td>586</td>\n",
       "      <td>586</td>\n",
       "      <td>586</td>\n",
       "      <td>586</td>\n",
       "      <td>586</td>\n",
       "      <td>586</td>\n",
       "      <td>586</td>\n",
       "      <td>586</td>\n",
       "      <td>586</td>\n",
       "      <td>...</td>\n",
       "      <td>586</td>\n",
       "      <td>586</td>\n",
       "      <td>586</td>\n",
       "      <td>586</td>\n",
       "      <td>586</td>\n",
       "      <td>586</td>\n",
       "      <td>586</td>\n",
       "      <td>586</td>\n",
       "      <td>586</td>\n",
       "      <td>586</td>\n",
       "    </tr>\n",
       "    <tr>\n",
       "      <th>MSRP</th>\n",
       "      <td>16020</td>\n",
       "      <td>14530</td>\n",
       "      <td>16860</td>\n",
       "      <td>15370</td>\n",
       "      <td>17050</td>\n",
       "      <td>15560</td>\n",
       "      <td>16210</td>\n",
       "      <td>14720</td>\n",
       "      <td>17050</td>\n",
       "      <td>15560</td>\n",
       "      <td>...</td>\n",
       "      <td>20575</td>\n",
       "      <td>21410</td>\n",
       "      <td>23150</td>\n",
       "      <td>16975</td>\n",
       "      <td>19215</td>\n",
       "      <td>13930</td>\n",
       "      <td>20880</td>\n",
       "      <td>18885</td>\n",
       "      <td>18050</td>\n",
       "      <td>19975</td>\n",
       "    </tr>\n",
       "  </tbody>\n",
       "</table>\n",
       "<p>16 rows × 423 columns</p>\n",
       "</div>"
      ],
      "text/plain": [
       "                               112                113                114    \\\n",
       "Make                           Mazda              Mazda              Mazda   \n",
       "Model                              2                  2                  2   \n",
       "Year                            2012               2012               2012   \n",
       "Engine Fuel Type    regular unleaded   regular unleaded   regular unleaded   \n",
       "Engine HP                      100.0              100.0              100.0   \n",
       "Engine Cylinders                 4.0                4.0                4.0   \n",
       "Transmission Type             MANUAL             MANUAL          AUTOMATIC   \n",
       "Driven_Wheels      front wheel drive  front wheel drive  front wheel drive   \n",
       "Number of Doors                  4.0                4.0                4.0   \n",
       "Market Category            Hatchback          Hatchback          Hatchback   \n",
       "Vehicle Size                 Compact            Compact            Compact   \n",
       "Vehicle Style          4dr Hatchback      4dr Hatchback      4dr Hatchback   \n",
       "highway MPG                       35                 35                 34   \n",
       "city mpg                          29                 29                 28   \n",
       "Popularity                       586                586                586   \n",
       "MSRP                           16020              14530              16860   \n",
       "\n",
       "                               115                116                117    \\\n",
       "Make                           Mazda              Mazda              Mazda   \n",
       "Model                              2                  2                  2   \n",
       "Year                            2012               2013               2013   \n",
       "Engine Fuel Type    regular unleaded   regular unleaded   regular unleaded   \n",
       "Engine HP                      100.0              100.0              100.0   \n",
       "Engine Cylinders                 4.0                4.0                4.0   \n",
       "Transmission Type          AUTOMATIC          AUTOMATIC          AUTOMATIC   \n",
       "Driven_Wheels      front wheel drive  front wheel drive  front wheel drive   \n",
       "Number of Doors                  4.0                4.0                4.0   \n",
       "Market Category            Hatchback          Hatchback          Hatchback   \n",
       "Vehicle Size                 Compact            Compact            Compact   \n",
       "Vehicle Style          4dr Hatchback      4dr Hatchback      4dr Hatchback   \n",
       "highway MPG                       34                 34                 34   \n",
       "city mpg                          28                 28                 28   \n",
       "Popularity                       586                586                586   \n",
       "MSRP                           15370              17050              15560   \n",
       "\n",
       "                               118                119                120    \\\n",
       "Make                           Mazda              Mazda              Mazda   \n",
       "Model                              2                  2                  2   \n",
       "Year                            2013               2013               2014   \n",
       "Engine Fuel Type    regular unleaded   regular unleaded   regular unleaded   \n",
       "Engine HP                      100.0              100.0              100.0   \n",
       "Engine Cylinders                 4.0                4.0                4.0   \n",
       "Transmission Type             MANUAL             MANUAL          AUTOMATIC   \n",
       "Driven_Wheels      front wheel drive  front wheel drive  front wheel drive   \n",
       "Number of Doors                  4.0                4.0                4.0   \n",
       "Market Category            Hatchback          Hatchback          Hatchback   \n",
       "Vehicle Size                 Compact            Compact            Compact   \n",
       "Vehicle Style          4dr Hatchback      4dr Hatchback      4dr Hatchback   \n",
       "highway MPG                       35                 35                 34   \n",
       "city mpg                          29                 29                 28   \n",
       "Popularity                       586                586                586   \n",
       "MSRP                           16210              14720              17050   \n",
       "\n",
       "                               121    ...                10836  \\\n",
       "Make                           Mazda  ...                Mazda   \n",
       "Model                              2  ...                Truck   \n",
       "Year                            2014  ...                 2002   \n",
       "Engine Fuel Type    regular unleaded  ...     regular unleaded   \n",
       "Engine HP                      100.0  ...                147.0   \n",
       "Engine Cylinders                 4.0  ...                  6.0   \n",
       "Transmission Type          AUTOMATIC  ...               MANUAL   \n",
       "Driven_Wheels      front wheel drive  ...     four wheel drive   \n",
       "Number of Doors                  4.0  ...                  2.0   \n",
       "Market Category            Hatchback  ...                  NaN   \n",
       "Vehicle Size                 Compact  ...              Compact   \n",
       "Vehicle Style          4dr Hatchback  ...  Extended Cab Pickup   \n",
       "highway MPG                       34  ...                   20   \n",
       "city mpg                          28  ...                   16   \n",
       "Popularity                       586  ...                  586   \n",
       "MSRP                           15560  ...                20575   \n",
       "\n",
       "                                 10837                10838  \\\n",
       "Make                             Mazda                Mazda   \n",
       "Model                            Truck                Truck   \n",
       "Year                              2003                 2003   \n",
       "Engine Fuel Type      regular unleaded     regular unleaded   \n",
       "Engine HP                        207.0                207.0   \n",
       "Engine Cylinders                   6.0                  6.0   \n",
       "Transmission Type               MANUAL               MANUAL   \n",
       "Driven_Wheels         four wheel drive     four wheel drive   \n",
       "Number of Doors                    2.0                  4.0   \n",
       "Market Category                    NaN                  NaN   \n",
       "Vehicle Size                   Compact              Compact   \n",
       "Vehicle Style      Extended Cab Pickup  Extended Cab Pickup   \n",
       "highway MPG                         17                   17   \n",
       "city mpg                            14                   14   \n",
       "Popularity                         586                  586   \n",
       "MSRP                             21410                23150   \n",
       "\n",
       "                                10839                10840  \\\n",
       "Make                            Mazda                Mazda   \n",
       "Model                           Truck                Truck   \n",
       "Year                             2003                 2003   \n",
       "Engine Fuel Type     regular unleaded     regular unleaded   \n",
       "Engine HP                       147.0                147.0   \n",
       "Engine Cylinders                  6.0                  6.0   \n",
       "Transmission Type              MANUAL               MANUAL   \n",
       "Driven_Wheels        rear wheel drive     rear wheel drive   \n",
       "Number of Doors                   2.0                  4.0   \n",
       "Market Category                   NaN                  NaN   \n",
       "Vehicle Size                  Compact              Compact   \n",
       "Vehicle Style      Regular Cab Pickup  Extended Cab Pickup   \n",
       "highway MPG                        21                   21   \n",
       "city mpg                           17                   17   \n",
       "Popularity                        586                  586   \n",
       "MSRP                            16975                19215   \n",
       "\n",
       "                                10841                10842  \\\n",
       "Make                            Mazda                Mazda   \n",
       "Model                           Truck                Truck   \n",
       "Year                             2003                 2003   \n",
       "Engine Fuel Type     regular unleaded     regular unleaded   \n",
       "Engine HP                       135.0                207.0   \n",
       "Engine Cylinders                  4.0                  6.0   \n",
       "Transmission Type              MANUAL               MANUAL   \n",
       "Driven_Wheels        rear wheel drive     rear wheel drive   \n",
       "Number of Doors                   2.0                  4.0   \n",
       "Market Category                   NaN                  NaN   \n",
       "Vehicle Size                  Compact              Compact   \n",
       "Vehicle Style      Regular Cab Pickup  Extended Cab Pickup   \n",
       "highway MPG                        26                   20   \n",
       "city mpg                           21                   15   \n",
       "Popularity                        586                  586   \n",
       "MSRP                            13930                20880   \n",
       "\n",
       "                                 10843                10844  \\\n",
       "Make                             Mazda                Mazda   \n",
       "Model                            Truck                Truck   \n",
       "Year                              2003                 2003   \n",
       "Engine Fuel Type      regular unleaded     regular unleaded   \n",
       "Engine HP                        147.0                135.0   \n",
       "Engine Cylinders                   6.0                  4.0   \n",
       "Transmission Type               MANUAL               MANUAL   \n",
       "Driven_Wheels         rear wheel drive     rear wheel drive   \n",
       "Number of Doors                    2.0                  2.0   \n",
       "Market Category                    NaN                  NaN   \n",
       "Vehicle Size                   Compact              Compact   \n",
       "Vehicle Style      Extended Cab Pickup  Extended Cab Pickup   \n",
       "highway MPG                         21                   26   \n",
       "city mpg                            17                   21   \n",
       "Popularity                         586                  586   \n",
       "MSRP                             18885                18050   \n",
       "\n",
       "                                 10845  \n",
       "Make                             Mazda  \n",
       "Model                            Truck  \n",
       "Year                              2003  \n",
       "Engine Fuel Type      regular unleaded  \n",
       "Engine HP                        207.0  \n",
       "Engine Cylinders                   6.0  \n",
       "Transmission Type               MANUAL  \n",
       "Driven_Wheels         four wheel drive  \n",
       "Number of Doors                    2.0  \n",
       "Market Category                    NaN  \n",
       "Vehicle Size                   Compact  \n",
       "Vehicle Style      Extended Cab Pickup  \n",
       "highway MPG                         17  \n",
       "city mpg                            14  \n",
       "Popularity                         586  \n",
       "MSRP                             19975  \n",
       "\n",
       "[16 rows x 423 columns]"
      ]
     },
     "execution_count": 5,
     "metadata": {},
     "output_type": "execute_result"
    }
   ],
   "source": [
    "# each column is a vehicle\n",
    "car_data[car_data.Make == 'Mazda'].transpose()"
   ]
  },
  {
   "cell_type": "markdown",
   "metadata": {},
   "source": [
    "### Number Of Missing Values By Feature"
   ]
  },
  {
   "cell_type": "code",
   "execution_count": 6,
   "metadata": {
    "scrolled": true
   },
   "outputs": [
    {
     "data": {
      "text/html": [
       "<div>\n",
       "<style scoped>\n",
       "    .dataframe tbody tr th:only-of-type {\n",
       "        vertical-align: middle;\n",
       "    }\n",
       "\n",
       "    .dataframe tbody tr th {\n",
       "        vertical-align: top;\n",
       "    }\n",
       "\n",
       "    .dataframe thead th {\n",
       "        text-align: right;\n",
       "    }\n",
       "</style>\n",
       "<table border=\"1\" class=\"dataframe\">\n",
       "  <thead>\n",
       "    <tr style=\"text-align: right;\">\n",
       "      <th></th>\n",
       "      <th>Count</th>\n",
       "      <th>Percentage</th>\n",
       "    </tr>\n",
       "  </thead>\n",
       "  <tbody>\n",
       "    <tr>\n",
       "      <th>Market Category</th>\n",
       "      <td>3742</td>\n",
       "      <td>31.408427</td>\n",
       "    </tr>\n",
       "    <tr>\n",
       "      <th>Engine HP</th>\n",
       "      <td>69</td>\n",
       "      <td>0.579151</td>\n",
       "    </tr>\n",
       "    <tr>\n",
       "      <th>Engine Cylinders</th>\n",
       "      <td>30</td>\n",
       "      <td>0.251805</td>\n",
       "    </tr>\n",
       "    <tr>\n",
       "      <th>Number of Doors</th>\n",
       "      <td>6</td>\n",
       "      <td>0.050361</td>\n",
       "    </tr>\n",
       "    <tr>\n",
       "      <th>Engine Fuel Type</th>\n",
       "      <td>3</td>\n",
       "      <td>0.025180</td>\n",
       "    </tr>\n",
       "    <tr>\n",
       "      <th>Make</th>\n",
       "      <td>0</td>\n",
       "      <td>0.000000</td>\n",
       "    </tr>\n",
       "    <tr>\n",
       "      <th>Model</th>\n",
       "      <td>0</td>\n",
       "      <td>0.000000</td>\n",
       "    </tr>\n",
       "    <tr>\n",
       "      <th>Year</th>\n",
       "      <td>0</td>\n",
       "      <td>0.000000</td>\n",
       "    </tr>\n",
       "    <tr>\n",
       "      <th>Transmission Type</th>\n",
       "      <td>0</td>\n",
       "      <td>0.000000</td>\n",
       "    </tr>\n",
       "    <tr>\n",
       "      <th>Driven_Wheels</th>\n",
       "      <td>0</td>\n",
       "      <td>0.000000</td>\n",
       "    </tr>\n",
       "    <tr>\n",
       "      <th>Vehicle Size</th>\n",
       "      <td>0</td>\n",
       "      <td>0.000000</td>\n",
       "    </tr>\n",
       "    <tr>\n",
       "      <th>Vehicle Style</th>\n",
       "      <td>0</td>\n",
       "      <td>0.000000</td>\n",
       "    </tr>\n",
       "    <tr>\n",
       "      <th>highway MPG</th>\n",
       "      <td>0</td>\n",
       "      <td>0.000000</td>\n",
       "    </tr>\n",
       "    <tr>\n",
       "      <th>city mpg</th>\n",
       "      <td>0</td>\n",
       "      <td>0.000000</td>\n",
       "    </tr>\n",
       "    <tr>\n",
       "      <th>Popularity</th>\n",
       "      <td>0</td>\n",
       "      <td>0.000000</td>\n",
       "    </tr>\n",
       "    <tr>\n",
       "      <th>MSRP</th>\n",
       "      <td>0</td>\n",
       "      <td>0.000000</td>\n",
       "    </tr>\n",
       "  </tbody>\n",
       "</table>\n",
       "</div>"
      ],
      "text/plain": [
       "                   Count  Percentage\n",
       "Market Category     3742   31.408427\n",
       "Engine HP             69    0.579151\n",
       "Engine Cylinders      30    0.251805\n",
       "Number of Doors        6    0.050361\n",
       "Engine Fuel Type       3    0.025180\n",
       "Make                   0    0.000000\n",
       "Model                  0    0.000000\n",
       "Year                   0    0.000000\n",
       "Transmission Type      0    0.000000\n",
       "Driven_Wheels          0    0.000000\n",
       "Vehicle Size           0    0.000000\n",
       "Vehicle Style          0    0.000000\n",
       "highway MPG            0    0.000000\n",
       "city mpg               0    0.000000\n",
       "Popularity             0    0.000000\n",
       "MSRP                   0    0.000000"
      ]
     },
     "execution_count": 6,
     "metadata": {},
     "output_type": "execute_result"
    }
   ],
   "source": [
    "missing_count = car_data.isnull().sum()\n",
    "missing_percent = 100 * car_data.isnull().mean()\n",
    "missing = pd.DataFrame({'Count': missing_count, 'Percentage': missing_percent})\n",
    "# missing = ski_data([ski_data.isnull().sum(), 100 * ski_data.isnull().mean()], axis=1)\n",
    "missing_sorted = missing.sort_values(['Count', 'Percentage'], ascending=[False, False])\n",
    "missing_sorted"
   ]
  },
  {
   "cell_type": "markdown",
   "metadata": {},
   "source": [
    "### Impute horsepower data"
   ]
  },
  {
   "cell_type": "code",
   "execution_count": 7,
   "metadata": {},
   "outputs": [],
   "source": [
    "# Fill missing values for 'Engine HP' with the mean\n",
    "car_data['Engine HP'].fillna(car_data['Engine HP'].mean(), inplace=True)"
   ]
  },
  {
   "cell_type": "code",
   "execution_count": 8,
   "metadata": {},
   "outputs": [
    {
     "name": "stdout",
     "output_type": "stream",
     "text": [
      "No more missing values in the 'Engine HP' column.\n"
     ]
    }
   ],
   "source": [
    "# Check for any remaining missing values in the 'Engine HP' column\n",
    "missing_vals_hp = car_data['Engine HP'].isnull().sum()\n",
    "if missing_vals_hp == 0:\n",
    "    print(\"No more missing values in the 'Engine HP' column.\")\n",
    "else:\n",
    "    print(\"There are still\", missing_vals_hp, \"missing values in the 'Engine HP' column.\")"
   ]
  },
  {
   "cell_type": "markdown",
   "metadata": {},
   "source": [
    "### Exploring Categorical Features"
   ]
  },
  {
   "cell_type": "code",
   "execution_count": 9,
   "metadata": {},
   "outputs": [
    {
     "data": {
      "text/html": [
       "<div>\n",
       "<style scoped>\n",
       "    .dataframe tbody tr th:only-of-type {\n",
       "        vertical-align: middle;\n",
       "    }\n",
       "\n",
       "    .dataframe tbody tr th {\n",
       "        vertical-align: top;\n",
       "    }\n",
       "\n",
       "    .dataframe thead th {\n",
       "        text-align: right;\n",
       "    }\n",
       "</style>\n",
       "<table border=\"1\" class=\"dataframe\">\n",
       "  <thead>\n",
       "    <tr style=\"text-align: right;\">\n",
       "      <th></th>\n",
       "      <th>Make</th>\n",
       "      <th>Model</th>\n",
       "      <th>Engine Fuel Type</th>\n",
       "      <th>Transmission Type</th>\n",
       "      <th>Driven_Wheels</th>\n",
       "      <th>Market Category</th>\n",
       "      <th>Vehicle Size</th>\n",
       "      <th>Vehicle Style</th>\n",
       "    </tr>\n",
       "  </thead>\n",
       "  <tbody>\n",
       "    <tr>\n",
       "      <th>0</th>\n",
       "      <td>BMW</td>\n",
       "      <td>1 Series M</td>\n",
       "      <td>premium unleaded (required)</td>\n",
       "      <td>MANUAL</td>\n",
       "      <td>rear wheel drive</td>\n",
       "      <td>Factory Tuner,Luxury,High-Performance</td>\n",
       "      <td>Compact</td>\n",
       "      <td>Coupe</td>\n",
       "    </tr>\n",
       "    <tr>\n",
       "      <th>1</th>\n",
       "      <td>BMW</td>\n",
       "      <td>1 Series</td>\n",
       "      <td>premium unleaded (required)</td>\n",
       "      <td>MANUAL</td>\n",
       "      <td>rear wheel drive</td>\n",
       "      <td>Luxury,Performance</td>\n",
       "      <td>Compact</td>\n",
       "      <td>Convertible</td>\n",
       "    </tr>\n",
       "    <tr>\n",
       "      <th>2</th>\n",
       "      <td>BMW</td>\n",
       "      <td>1 Series</td>\n",
       "      <td>premium unleaded (required)</td>\n",
       "      <td>MANUAL</td>\n",
       "      <td>rear wheel drive</td>\n",
       "      <td>Luxury,High-Performance</td>\n",
       "      <td>Compact</td>\n",
       "      <td>Coupe</td>\n",
       "    </tr>\n",
       "    <tr>\n",
       "      <th>3</th>\n",
       "      <td>BMW</td>\n",
       "      <td>1 Series</td>\n",
       "      <td>premium unleaded (required)</td>\n",
       "      <td>MANUAL</td>\n",
       "      <td>rear wheel drive</td>\n",
       "      <td>Luxury,Performance</td>\n",
       "      <td>Compact</td>\n",
       "      <td>Coupe</td>\n",
       "    </tr>\n",
       "    <tr>\n",
       "      <th>4</th>\n",
       "      <td>BMW</td>\n",
       "      <td>1 Series</td>\n",
       "      <td>premium unleaded (required)</td>\n",
       "      <td>MANUAL</td>\n",
       "      <td>rear wheel drive</td>\n",
       "      <td>Luxury</td>\n",
       "      <td>Compact</td>\n",
       "      <td>Convertible</td>\n",
       "    </tr>\n",
       "  </tbody>\n",
       "</table>\n",
       "</div>"
      ],
      "text/plain": [
       "  Make       Model             Engine Fuel Type Transmission Type  \\\n",
       "0  BMW  1 Series M  premium unleaded (required)            MANUAL   \n",
       "1  BMW    1 Series  premium unleaded (required)            MANUAL   \n",
       "2  BMW    1 Series  premium unleaded (required)            MANUAL   \n",
       "3  BMW    1 Series  premium unleaded (required)            MANUAL   \n",
       "4  BMW    1 Series  premium unleaded (required)            MANUAL   \n",
       "\n",
       "      Driven_Wheels                        Market Category Vehicle Size  \\\n",
       "0  rear wheel drive  Factory Tuner,Luxury,High-Performance      Compact   \n",
       "1  rear wheel drive                     Luxury,Performance      Compact   \n",
       "2  rear wheel drive                Luxury,High-Performance      Compact   \n",
       "3  rear wheel drive                     Luxury,Performance      Compact   \n",
       "4  rear wheel drive                                 Luxury      Compact   \n",
       "\n",
       "  Vehicle Style  \n",
       "0         Coupe  \n",
       "1   Convertible  \n",
       "2         Coupe  \n",
       "3         Coupe  \n",
       "4   Convertible  "
      ]
     },
     "execution_count": 9,
     "metadata": {},
     "output_type": "execute_result"
    }
   ],
   "source": [
    "# Select categorical features\n",
    "car_data.select_dtypes(include=object).head()"
   ]
  },
  {
   "cell_type": "code",
   "execution_count": 10,
   "metadata": {},
   "outputs": [
    {
     "data": {
      "text/plain": [
       "Make      48\n",
       "Model    915\n",
       "dtype: int64"
      ]
     },
     "execution_count": 10,
     "metadata": {},
     "output_type": "execute_result"
    }
   ],
   "source": [
    "# Number of unique makes and models\n",
    "car_data[['Make', 'Model']].nunique()"
   ]
  },
  {
   "cell_type": "code",
   "execution_count": 11,
   "metadata": {},
   "outputs": [
    {
     "data": {
      "text/plain": [
       "Make\n",
       "Chevrolet     1123\n",
       "Ford           881\n",
       "Volkswagen     809\n",
       "Toyota         746\n",
       "Dodge          626\n",
       "Name: count, dtype: int64"
      ]
     },
     "execution_count": 11,
     "metadata": {},
     "output_type": "execute_result"
    }
   ],
   "source": [
    "# Find number of cars of each make\n",
    "car_data['Make'].value_counts().head()"
   ]
  },
  {
   "cell_type": "code",
   "execution_count": 12,
   "metadata": {},
   "outputs": [
    {
     "data": {
      "text/plain": [
       "Market Category\n",
       "Crossover             1110\n",
       "Flex Fuel              872\n",
       "Luxury                 855\n",
       "Luxury,Performance     673\n",
       "Hatchback              641\n",
       "Name: count, dtype: int64"
      ]
     },
     "execution_count": 12,
     "metadata": {},
     "output_type": "execute_result"
    }
   ],
   "source": [
    "# List market categores\n",
    "car_data['Market Category'].value_counts().head()"
   ]
  },
  {
   "cell_type": "markdown",
   "metadata": {},
   "source": [
    "### Look for and remove duplicate rows"
   ]
  },
  {
   "cell_type": "code",
   "execution_count": 13,
   "metadata": {
    "scrolled": true
   },
   "outputs": [
    {
     "name": "stdout",
     "output_type": "stream",
     "text": [
      "         Make     Model  Year             Engine Fuel Type  Engine HP  \\\n",
      "11        BMW  1 Series  2013  premium unleaded (required)      230.0   \n",
      "14        BMW  1 Series  2013  premium unleaded (required)      230.0   \n",
      "17       Audi       100  1992             regular unleaded      172.0   \n",
      "18       Audi       100  1992             regular unleaded      172.0   \n",
      "20       Audi       100  1992             regular unleaded      172.0   \n",
      "...       ...       ...   ...                          ...        ...   \n",
      "11604   Volvo      XC60  2017             regular unleaded      240.0   \n",
      "11707  Suzuki       XL7  2008             regular unleaded      252.0   \n",
      "11708  Suzuki       XL7  2008             regular unleaded      252.0   \n",
      "11709  Suzuki       XL7  2008             regular unleaded      252.0   \n",
      "11717  Suzuki       XL7  2008             regular unleaded      252.0   \n",
      "\n",
      "       Engine Cylinders Transmission Type      Driven_Wheels  Number of Doors  \\\n",
      "11                  6.0            MANUAL   rear wheel drive              2.0   \n",
      "14                  6.0            MANUAL   rear wheel drive              2.0   \n",
      "17                  6.0            MANUAL  front wheel drive              4.0   \n",
      "18                  6.0            MANUAL  front wheel drive              4.0   \n",
      "20                  6.0            MANUAL  front wheel drive              4.0   \n",
      "...                 ...               ...                ...              ...   \n",
      "11604               4.0         AUTOMATIC  front wheel drive              4.0   \n",
      "11707               6.0         AUTOMATIC    all wheel drive              4.0   \n",
      "11708               6.0         AUTOMATIC    all wheel drive              4.0   \n",
      "11709               6.0         AUTOMATIC  front wheel drive              4.0   \n",
      "11717               6.0         AUTOMATIC  front wheel drive              4.0   \n",
      "\n",
      "          Market Category Vehicle Size Vehicle Style  highway MPG  city mpg  \\\n",
      "11     Luxury,Performance      Compact         Coupe           28        19   \n",
      "14     Luxury,Performance      Compact         Coupe           28        19   \n",
      "17                 Luxury      Midsize         Sedan           24        17   \n",
      "18                 Luxury      Midsize         Sedan           24        17   \n",
      "20                 Luxury      Midsize         Sedan           24        17   \n",
      "...                   ...          ...           ...          ...       ...   \n",
      "11604    Crossover,Luxury      Midsize       4dr SUV           30        23   \n",
      "11707           Crossover      Midsize       4dr SUV           22        15   \n",
      "11708           Crossover      Midsize       4dr SUV           22        15   \n",
      "11709           Crossover      Midsize       4dr SUV           22        16   \n",
      "11717           Crossover      Midsize       4dr SUV           22        16   \n",
      "\n",
      "       Popularity   MSRP  \n",
      "11           3916  31500  \n",
      "14           3916  31500  \n",
      "17           3105   2000  \n",
      "18           3105   2000  \n",
      "20           3105   2000  \n",
      "...           ...    ...  \n",
      "11604         870  40950  \n",
      "11707         481  29149  \n",
      "11708         481  29149  \n",
      "11709         481  27499  \n",
      "11717         481  27499  \n",
      "\n",
      "[1332 rows x 16 columns]\n"
     ]
    }
   ],
   "source": [
    "duplicates = car_data.duplicated(keep=False)\n",
    "\n",
    "# Filter the DataFrame to show only duplicate rows\n",
    "duplicate_rows = car_data[duplicates]\n",
    "\n",
    "# Print the duplicate rows\n",
    "print(duplicate_rows)"
   ]
  },
  {
   "cell_type": "code",
   "execution_count": 14,
   "metadata": {},
   "outputs": [
    {
     "name": "stdout",
     "output_type": "stream",
     "text": [
      "Data after removing duplicates retains 11199 rows from 11914 original rows.\n"
     ]
    }
   ],
   "source": [
    "car_data_clean = car_data.drop_duplicates(keep='first')\n",
    "print(\"Data after removing duplicates retains\", car_data_clean.shape[0], \"rows from\", car_data.shape[0], \"original rows.\")"
   ]
  },
  {
   "cell_type": "code",
   "execution_count": 15,
   "metadata": {},
   "outputs": [],
   "source": [
    "car_data = car_data_clean"
   ]
  },
  {
   "cell_type": "markdown",
   "metadata": {},
   "source": [
    "### Make and Year distributions"
   ]
  },
  {
   "cell_type": "code",
   "execution_count": 16,
   "metadata": {},
   "outputs": [
    {
     "data": {
      "image/png": "[encoded data removed]",
      "text/plain": [
       "<Figure size 1200x800 with 2 Axes>"
      ]
     },
     "metadata": {},
     "output_type": "display_data"
    }
   ],
   "source": [
    "fig, ax = plt.subplots(nrows=1, ncols=2, figsize=(12, 8))\n",
    "#Specify a horizontal barplot ('barh') as kind of plot (kind=)\n",
    "car_data.Make.value_counts().plot(kind='barh', ax=ax[0])\n",
    "#Give the plot a helpful title of 'Region'\n",
    "ax[0].set_title('Make')\n",
    "#Label the xaxis 'Count'\n",
    "ax[0].set_xlabel('Count')\n",
    "#Specify a horizontal barplot ('barh') as kind of plot (kind=)\n",
    "car_data.Year.value_counts().plot(kind='barh', ax=ax[1])\n",
    "#Give the plot a helpful title of 'state'\n",
    "ax[1].set_title('Year')\n",
    "#Label the xaxis 'Count'\n",
    "ax[1].set_xlabel('Count')\n",
    "#Give the subplots a little \"breathing room\" with a wspace of 0.5\n",
    "plt.subplots_adjust(wspace=0.5)"
   ]
  },
  {
   "cell_type": "markdown",
   "metadata": {},
   "source": [
    "### Numeric data summary"
   ]
  },
  {
   "cell_type": "code",
   "execution_count": 17,
   "metadata": {},
   "outputs": [
    {
     "data": {
      "text/html": [
       "<div>\n",
       "<style scoped>\n",
       "    .dataframe tbody tr th:only-of-type {\n",
       "        vertical-align: middle;\n",
       "    }\n",
       "\n",
       "    .dataframe tbody tr th {\n",
       "        vertical-align: top;\n",
       "    }\n",
       "\n",
       "    .dataframe thead th {\n",
       "        text-align: right;\n",
       "    }\n",
       "</style>\n",
       "<table border=\"1\" class=\"dataframe\">\n",
       "  <thead>\n",
       "    <tr style=\"text-align: right;\">\n",
       "      <th></th>\n",
       "      <th>count</th>\n",
       "      <th>mean</th>\n",
       "      <th>std</th>\n",
       "      <th>min</th>\n",
       "      <th>25%</th>\n",
       "      <th>50%</th>\n",
       "      <th>75%</th>\n",
       "      <th>max</th>\n",
       "    </tr>\n",
       "  </thead>\n",
       "  <tbody>\n",
       "    <tr>\n",
       "      <th>Year</th>\n",
       "      <td>11199.0</td>\n",
       "      <td>2010.714528</td>\n",
       "      <td>7.228211</td>\n",
       "      <td>1990.0</td>\n",
       "      <td>2007.0</td>\n",
       "      <td>2015.0</td>\n",
       "      <td>2016.0</td>\n",
       "      <td>2017.0</td>\n",
       "    </tr>\n",
       "    <tr>\n",
       "      <th>Engine HP</th>\n",
       "      <td>11199.0</td>\n",
       "      <td>253.364197</td>\n",
       "      <td>109.811495</td>\n",
       "      <td>55.0</td>\n",
       "      <td>172.0</td>\n",
       "      <td>240.0</td>\n",
       "      <td>303.0</td>\n",
       "      <td>1001.0</td>\n",
       "    </tr>\n",
       "    <tr>\n",
       "      <th>Engine Cylinders</th>\n",
       "      <td>11169.0</td>\n",
       "      <td>5.665950</td>\n",
       "      <td>1.797021</td>\n",
       "      <td>0.0</td>\n",
       "      <td>4.0</td>\n",
       "      <td>6.0</td>\n",
       "      <td>6.0</td>\n",
       "      <td>16.0</td>\n",
       "    </tr>\n",
       "    <tr>\n",
       "      <th>Number of Doors</th>\n",
       "      <td>11193.0</td>\n",
       "      <td>3.454123</td>\n",
       "      <td>0.872946</td>\n",
       "      <td>2.0</td>\n",
       "      <td>2.0</td>\n",
       "      <td>4.0</td>\n",
       "      <td>4.0</td>\n",
       "      <td>4.0</td>\n",
       "    </tr>\n",
       "    <tr>\n",
       "      <th>highway MPG</th>\n",
       "      <td>11199.0</td>\n",
       "      <td>26.610590</td>\n",
       "      <td>8.977641</td>\n",
       "      <td>12.0</td>\n",
       "      <td>22.0</td>\n",
       "      <td>25.0</td>\n",
       "      <td>30.0</td>\n",
       "      <td>354.0</td>\n",
       "    </tr>\n",
       "    <tr>\n",
       "      <th>city mpg</th>\n",
       "      <td>11199.0</td>\n",
       "      <td>19.731851</td>\n",
       "      <td>9.177555</td>\n",
       "      <td>7.0</td>\n",
       "      <td>16.0</td>\n",
       "      <td>18.0</td>\n",
       "      <td>22.0</td>\n",
       "      <td>137.0</td>\n",
       "    </tr>\n",
       "    <tr>\n",
       "      <th>Popularity</th>\n",
       "      <td>11199.0</td>\n",
       "      <td>1558.483347</td>\n",
       "      <td>1445.668872</td>\n",
       "      <td>2.0</td>\n",
       "      <td>549.0</td>\n",
       "      <td>1385.0</td>\n",
       "      <td>2009.0</td>\n",
       "      <td>5657.0</td>\n",
       "    </tr>\n",
       "    <tr>\n",
       "      <th>MSRP</th>\n",
       "      <td>11199.0</td>\n",
       "      <td>41925.927136</td>\n",
       "      <td>61535.047817</td>\n",
       "      <td>2000.0</td>\n",
       "      <td>21599.5</td>\n",
       "      <td>30675.0</td>\n",
       "      <td>43032.5</td>\n",
       "      <td>2065902.0</td>\n",
       "    </tr>\n",
       "  </tbody>\n",
       "</table>\n",
       "</div>"
      ],
      "text/plain": [
       "                    count          mean           std     min      25%  \\\n",
       "Year              11199.0   2010.714528      7.228211  1990.0   2007.0   \n",
       "Engine HP         11199.0    253.364197    109.811495    55.0    172.0   \n",
       "Engine Cylinders  11169.0      5.665950      1.797021     0.0      4.0   \n",
       "Number of Doors   11193.0      3.454123      0.872946     2.0      2.0   \n",
       "highway MPG       11199.0     26.610590      8.977641    12.0     22.0   \n",
       "city mpg          11199.0     19.731851      9.177555     7.0     16.0   \n",
       "Popularity        11199.0   1558.483347   1445.668872     2.0    549.0   \n",
       "MSRP              11199.0  41925.927136  61535.047817  2000.0  21599.5   \n",
       "\n",
       "                      50%      75%        max  \n",
       "Year               2015.0   2016.0     2017.0  \n",
       "Engine HP           240.0    303.0     1001.0  \n",
       "Engine Cylinders      6.0      6.0       16.0  \n",
       "Number of Doors       4.0      4.0        4.0  \n",
       "highway MPG          25.0     30.0      354.0  \n",
       "city mpg             18.0     22.0      137.0  \n",
       "Popularity         1385.0   2009.0     5657.0  \n",
       "MSRP              30675.0  43032.5  2065902.0  "
      ]
     },
     "execution_count": 17,
     "metadata": {},
     "output_type": "execute_result"
    }
   ],
   "source": [
    "# Summary of numeric data\n",
    "car_data.describe().transpose()"
   ]
  },
  {
   "cell_type": "markdown",
   "metadata": {},
   "source": [
    "### Distributions Of Feature Values"
   ]
  },
  {
   "cell_type": "code",
   "execution_count": 18,
   "metadata": {},
   "outputs": [
    {
     "data": {
      "image/png": "[encoded data removed]",
      "text/plain": [
       "<Figure size 1500x1000 with 9 Axes>"
      ]
     },
     "metadata": {},
     "output_type": "display_data"
    }
   ],
   "source": [
    "car_data.hist(figsize=(15,10))\n",
    "plt.subplots_adjust(hspace=0.5);"
   ]
  },
  {
   "cell_type": "markdown",
   "metadata": {},
   "source": [
    "### MSRP"
   ]
  },
  {
   "cell_type": "code",
   "execution_count": 19,
   "metadata": {},
   "outputs": [
    {
     "name": "stdout",
     "output_type": "stream",
     "text": [
      "335.96999999999997\n"
     ]
    }
   ],
   "source": [
    "# How many cars is 1% of the data?\n",
    "total_cars = len(car_data['MSRP'])\n",
    "print(total_cars * 0.03)"
   ]
  },
  {
   "cell_type": "code",
   "execution_count": 20,
   "metadata": {},
   "outputs": [
    {
     "name": "stdout",
     "output_type": "stream",
     "text": [
      "278\n"
     ]
    }
   ],
   "source": [
    "# Number of cars worth more than $500,000\n",
    "msrp_outliers = len(car_data[car_data.MSRP > 200000])\n",
    "print(msrp_outliers)"
   ]
  },
  {
   "cell_type": "code",
   "execution_count": 21,
   "metadata": {},
   "outputs": [
    {
     "name": "stdout",
     "output_type": "stream",
     "text": [
      "Maximum MSRP before filtering: $ 2065902\n"
     ]
    }
   ],
   "source": [
    "# Ok, I can stand to get rid of less than 3% to remove outliers\n",
    "max_msrp_before = car_data['MSRP'].max()\n",
    "print(\"Maximum MSRP before filtering: $\", max_msrp_before)"
   ]
  },
  {
   "cell_type": "code",
   "execution_count": 22,
   "metadata": {},
   "outputs": [],
   "source": [
    "# Remove those outlier values to make distribution more normal\n",
    "filtered_car_data = car_data[car_data.MSRP <= 200000]"
   ]
  },
  {
   "cell_type": "code",
   "execution_count": 23,
   "metadata": {},
   "outputs": [
    {
     "name": "stdout",
     "output_type": "stream",
     "text": [
      "Maximum MSRP after filtering: $ 199900\n"
     ]
    }
   ],
   "source": [
    "# Check the maximum 'MSRP' in the filtered DataFrame\n",
    "max_msrp = filtered_car_data['MSRP'].max()\n",
    "print(\"Maximum MSRP after filtering: $\", max_msrp)"
   ]
  },
  {
   "cell_type": "code",
   "execution_count": 24,
   "metadata": {},
   "outputs": [],
   "source": [
    "car_data = filtered_car_data"
   ]
  },
  {
   "cell_type": "code",
   "execution_count": 25,
   "metadata": {},
   "outputs": [
    {
     "data": {
      "text/plain": [
       "Text(0, 0.5, 'Count')"
      ]
     },
     "execution_count": 25,
     "metadata": {},
     "output_type": "execute_result"
    },
    {
     "data": {
      "image/png": "[encoded data removed]",
      "text/plain": [
       "<Figure size 640x480 with 1 Axes>"
      ]
     },
     "metadata": {},
     "output_type": "display_data"
    }
   ],
   "source": [
    "# Plot new distribution of MSRP. Looks better now\n",
    "car_data.MSRP.hist(bins=30)\n",
    "plt.xlabel('MSRP')\n",
    "plt.ylabel('Count')"
   ]
  },
  {
   "cell_type": "markdown",
   "metadata": {},
   "source": [
    "### Number of Doors\n",
    "Should there be vehicles with 3 doors?"
   ]
  },
  {
   "cell_type": "code",
   "execution_count": 26,
   "metadata": {},
   "outputs": [],
   "source": [
    "two = car_data[car_data['Number of Doors'] == 2]\n",
    "three = car_data[car_data['Number of Doors'] == 3]\n",
    "four = car_data[car_data['Number of Doors'] == 4]"
   ]
  },
  {
   "cell_type": "code",
   "execution_count": 27,
   "metadata": {},
   "outputs": [
    {
     "data": {
      "text/plain": [
       "356"
      ]
     },
     "execution_count": 27,
     "metadata": {},
     "output_type": "execute_result"
    }
   ],
   "source": [
    "len(three)"
   ]
  },
  {
   "cell_type": "markdown",
   "metadata": {},
   "source": [
    "Let's see what types of vehicles have 3 doors in order to decide whether to keep or impute."
   ]
  },
  {
   "cell_type": "code",
   "execution_count": 28,
   "metadata": {},
   "outputs": [
    {
     "data": {
      "text/plain": [
       "Vehicle Size\n",
       "Midsize    138\n",
       "Large      131\n",
       "Compact     87\n",
       "Name: count, dtype: int64"
      ]
     },
     "execution_count": 28,
     "metadata": {},
     "output_type": "execute_result"
    }
   ],
   "source": [
    "three['Vehicle Size'].value_counts()"
   ]
  },
  {
   "cell_type": "code",
   "execution_count": 29,
   "metadata": {},
   "outputs": [
    {
     "data": {
      "text/plain": [
       "Vehicle Style\n",
       "Passenger Van          121\n",
       "Cargo Van               84\n",
       "Passenger Minivan       63\n",
       "Extended Cab Pickup     47\n",
       "Cargo Minivan           23\n",
       "2dr Hatchback           18\n",
       "Name: count, dtype: int64"
      ]
     },
     "execution_count": 29,
     "metadata": {},
     "output_type": "execute_result"
    }
   ],
   "source": [
    "three['Vehicle Style'].value_counts()"
   ]
  },
  {
   "cell_type": "code",
   "execution_count": 30,
   "metadata": {},
   "outputs": [
    {
     "data": {
      "text/plain": [
       "Market Category\n",
       "Flex Fuel                115\n",
       "Flex Fuel,Diesel          16\n",
       "Diesel                    14\n",
       "Hatchback,Performance     10\n",
       "Hatchback                  8\n",
       "Performance                2\n",
       "Luxury                     1\n",
       "Name: count, dtype: int64"
      ]
     },
     "execution_count": 30,
     "metadata": {},
     "output_type": "execute_result"
    }
   ],
   "source": [
    "three['Market Category'].value_counts()"
   ]
  },
  {
   "cell_type": "markdown",
   "metadata": {},
   "source": [
    "356 out of 11,199 vehicles have 3 doors. The vehicle style of 3 doored vehicles consists of vans, pickups and hatchbacks. That means the 3rd door was intentional and so I will leave it in the data."
   ]
  },
  {
   "cell_type": "markdown",
   "metadata": {},
   "source": [
    "### Highway / City MPG"
   ]
  },
  {
   "cell_type": "code",
   "execution_count": 31,
   "metadata": {},
   "outputs": [
    {
     "data": {
      "text/plain": [
       "10921"
      ]
     },
     "execution_count": 31,
     "metadata": {},
     "output_type": "execute_result"
    }
   ],
   "source": [
    "len(car_data['highway MPG'])"
   ]
  },
  {
   "cell_type": "code",
   "execution_count": 32,
   "metadata": {},
   "outputs": [
    {
     "data": {
      "text/html": [
       "<div>\n",
       "<style scoped>\n",
       "    .dataframe tbody tr th:only-of-type {\n",
       "        vertical-align: middle;\n",
       "    }\n",
       "\n",
       "    .dataframe tbody tr th {\n",
       "        vertical-align: top;\n",
       "    }\n",
       "\n",
       "    .dataframe thead th {\n",
       "        text-align: right;\n",
       "    }\n",
       "</style>\n",
       "<table border=\"1\" class=\"dataframe\">\n",
       "  <thead>\n",
       "    <tr style=\"text-align: right;\">\n",
       "      <th></th>\n",
       "      <th>Make</th>\n",
       "      <th>Model</th>\n",
       "      <th>Year</th>\n",
       "      <th>Engine Fuel Type</th>\n",
       "      <th>Engine HP</th>\n",
       "      <th>Engine Cylinders</th>\n",
       "      <th>Transmission Type</th>\n",
       "      <th>Driven_Wheels</th>\n",
       "      <th>Number of Doors</th>\n",
       "      <th>Market Category</th>\n",
       "      <th>Vehicle Size</th>\n",
       "      <th>Vehicle Style</th>\n",
       "      <th>highway MPG</th>\n",
       "      <th>city mpg</th>\n",
       "      <th>Popularity</th>\n",
       "      <th>MSRP</th>\n",
       "    </tr>\n",
       "  </thead>\n",
       "  <tbody>\n",
       "    <tr>\n",
       "      <th>539</th>\n",
       "      <td>FIAT</td>\n",
       "      <td>500e</td>\n",
       "      <td>2015</td>\n",
       "      <td>electric</td>\n",
       "      <td>249.38607</td>\n",
       "      <td>0.0</td>\n",
       "      <td>DIRECT_DRIVE</td>\n",
       "      <td>front wheel drive</td>\n",
       "      <td>2.0</td>\n",
       "      <td>Hatchback</td>\n",
       "      <td>Compact</td>\n",
       "      <td>2dr Hatchback</td>\n",
       "      <td>108</td>\n",
       "      <td>122</td>\n",
       "      <td>819</td>\n",
       "      <td>31800</td>\n",
       "    </tr>\n",
       "    <tr>\n",
       "      <th>540</th>\n",
       "      <td>FIAT</td>\n",
       "      <td>500e</td>\n",
       "      <td>2016</td>\n",
       "      <td>electric</td>\n",
       "      <td>249.38607</td>\n",
       "      <td>0.0</td>\n",
       "      <td>DIRECT_DRIVE</td>\n",
       "      <td>front wheel drive</td>\n",
       "      <td>2.0</td>\n",
       "      <td>Hatchback</td>\n",
       "      <td>Compact</td>\n",
       "      <td>2dr Hatchback</td>\n",
       "      <td>103</td>\n",
       "      <td>121</td>\n",
       "      <td>819</td>\n",
       "      <td>31800</td>\n",
       "    </tr>\n",
       "    <tr>\n",
       "      <th>541</th>\n",
       "      <td>FIAT</td>\n",
       "      <td>500e</td>\n",
       "      <td>2017</td>\n",
       "      <td>electric</td>\n",
       "      <td>249.38607</td>\n",
       "      <td>0.0</td>\n",
       "      <td>DIRECT_DRIVE</td>\n",
       "      <td>front wheel drive</td>\n",
       "      <td>2.0</td>\n",
       "      <td>Hatchback</td>\n",
       "      <td>Compact</td>\n",
       "      <td>2dr Hatchback</td>\n",
       "      <td>103</td>\n",
       "      <td>121</td>\n",
       "      <td>819</td>\n",
       "      <td>31800</td>\n",
       "    </tr>\n",
       "    <tr>\n",
       "      <th>1119</th>\n",
       "      <td>Audi</td>\n",
       "      <td>A6</td>\n",
       "      <td>2017</td>\n",
       "      <td>premium unleaded (recommended)</td>\n",
       "      <td>252.00000</td>\n",
       "      <td>4.0</td>\n",
       "      <td>AUTOMATED_MANUAL</td>\n",
       "      <td>front wheel drive</td>\n",
       "      <td>4.0</td>\n",
       "      <td>Luxury</td>\n",
       "      <td>Midsize</td>\n",
       "      <td>Sedan</td>\n",
       "      <td>354</td>\n",
       "      <td>24</td>\n",
       "      <td>3105</td>\n",
       "      <td>51600</td>\n",
       "    </tr>\n",
       "    <tr>\n",
       "      <th>1983</th>\n",
       "      <td>Chevrolet</td>\n",
       "      <td>Bolt EV</td>\n",
       "      <td>2017</td>\n",
       "      <td>electric</td>\n",
       "      <td>200.00000</td>\n",
       "      <td>NaN</td>\n",
       "      <td>DIRECT_DRIVE</td>\n",
       "      <td>front wheel drive</td>\n",
       "      <td>4.0</td>\n",
       "      <td>Hatchback</td>\n",
       "      <td>Compact</td>\n",
       "      <td>4dr Hatchback</td>\n",
       "      <td>110</td>\n",
       "      <td>128</td>\n",
       "      <td>1385</td>\n",
       "      <td>40905</td>\n",
       "    </tr>\n",
       "  </tbody>\n",
       "</table>\n",
       "</div>"
      ],
      "text/plain": [
       "           Make    Model  Year                Engine Fuel Type  Engine HP  \\\n",
       "539        FIAT     500e  2015                        electric  249.38607   \n",
       "540        FIAT     500e  2016                        electric  249.38607   \n",
       "541        FIAT     500e  2017                        electric  249.38607   \n",
       "1119       Audi       A6  2017  premium unleaded (recommended)  252.00000   \n",
       "1983  Chevrolet  Bolt EV  2017                        electric  200.00000   \n",
       "\n",
       "      Engine Cylinders Transmission Type      Driven_Wheels  Number of Doors  \\\n",
       "539                0.0      DIRECT_DRIVE  front wheel drive              2.0   \n",
       "540                0.0      DIRECT_DRIVE  front wheel drive              2.0   \n",
       "541                0.0      DIRECT_DRIVE  front wheel drive              2.0   \n",
       "1119               4.0  AUTOMATED_MANUAL  front wheel drive              4.0   \n",
       "1983               NaN      DIRECT_DRIVE  front wheel drive              4.0   \n",
       "\n",
       "     Market Category Vehicle Size  Vehicle Style  highway MPG  city mpg  \\\n",
       "539        Hatchback      Compact  2dr Hatchback          108       122   \n",
       "540        Hatchback      Compact  2dr Hatchback          103       121   \n",
       "541        Hatchback      Compact  2dr Hatchback          103       121   \n",
       "1119          Luxury      Midsize          Sedan          354        24   \n",
       "1983       Hatchback      Compact  4dr Hatchback          110       128   \n",
       "\n",
       "      Popularity   MSRP  \n",
       "539          819  31800  \n",
       "540          819  31800  \n",
       "541          819  31800  \n",
       "1119        3105  51600  \n",
       "1983        1385  40905  "
      ]
     },
     "execution_count": 32,
     "metadata": {},
     "output_type": "execute_result"
    }
   ],
   "source": [
    "# View rows where highway MPG is greater than 100\n",
    "car_data[car_data['highway MPG'] > 100].head()"
   ]
  },
  {
   "cell_type": "markdown",
   "metadata": {},
   "source": [
    "Above we can see the vehicles with mpg in the hundreds are electric."
   ]
  },
  {
   "cell_type": "code",
   "execution_count": 33,
   "metadata": {},
   "outputs": [
    {
     "data": {
      "text/html": [
       "<div>\n",
       "<style scoped>\n",
       "    .dataframe tbody tr th:only-of-type {\n",
       "        vertical-align: middle;\n",
       "    }\n",
       "\n",
       "    .dataframe tbody tr th {\n",
       "        vertical-align: top;\n",
       "    }\n",
       "\n",
       "    .dataframe thead th {\n",
       "        text-align: right;\n",
       "    }\n",
       "</style>\n",
       "<table border=\"1\" class=\"dataframe\">\n",
       "  <thead>\n",
       "    <tr style=\"text-align: right;\">\n",
       "      <th></th>\n",
       "      <th>Make</th>\n",
       "      <th>Model</th>\n",
       "      <th>Year</th>\n",
       "      <th>Engine Fuel Type</th>\n",
       "      <th>Engine HP</th>\n",
       "      <th>Engine Cylinders</th>\n",
       "      <th>Transmission Type</th>\n",
       "      <th>Driven_Wheels</th>\n",
       "      <th>Number of Doors</th>\n",
       "      <th>Market Category</th>\n",
       "      <th>Vehicle Size</th>\n",
       "      <th>Vehicle Style</th>\n",
       "      <th>highway MPG</th>\n",
       "      <th>city mpg</th>\n",
       "      <th>Popularity</th>\n",
       "      <th>MSRP</th>\n",
       "    </tr>\n",
       "  </thead>\n",
       "  <tbody>\n",
       "    <tr>\n",
       "      <th>1119</th>\n",
       "      <td>Audi</td>\n",
       "      <td>A6</td>\n",
       "      <td>2017</td>\n",
       "      <td>premium unleaded (recommended)</td>\n",
       "      <td>252.0</td>\n",
       "      <td>4.0</td>\n",
       "      <td>AUTOMATED_MANUAL</td>\n",
       "      <td>front wheel drive</td>\n",
       "      <td>4.0</td>\n",
       "      <td>Luxury</td>\n",
       "      <td>Midsize</td>\n",
       "      <td>Sedan</td>\n",
       "      <td>354</td>\n",
       "      <td>24</td>\n",
       "      <td>3105</td>\n",
       "      <td>51600</td>\n",
       "    </tr>\n",
       "  </tbody>\n",
       "</table>\n",
       "</div>"
      ],
      "text/plain": [
       "      Make Model  Year                Engine Fuel Type  Engine HP  \\\n",
       "1119  Audi    A6  2017  premium unleaded (recommended)      252.0   \n",
       "\n",
       "      Engine Cylinders Transmission Type      Driven_Wheels  Number of Doors  \\\n",
       "1119               4.0  AUTOMATED_MANUAL  front wheel drive              4.0   \n",
       "\n",
       "     Market Category Vehicle Size Vehicle Style  highway MPG  city mpg  \\\n",
       "1119          Luxury      Midsize         Sedan          354        24   \n",
       "\n",
       "      Popularity   MSRP  \n",
       "1119        3105  51600  "
      ]
     },
     "execution_count": 33,
     "metadata": {},
     "output_type": "execute_result"
    }
   ],
   "source": [
    "car_data[car_data['highway MPG'] > 200].head()"
   ]
  },
  {
   "cell_type": "markdown",
   "metadata": {},
   "source": [
    "The one vehicle with 354 highway MPG is clearly a typo. I'll remove it below."
   ]
  },
  {
   "cell_type": "code",
   "execution_count": 34,
   "metadata": {},
   "outputs": [
    {
     "name": "stdout",
     "output_type": "stream",
     "text": [
      "Row with 'highway MPG' equal to 354 has been removed.\n"
     ]
    }
   ],
   "source": [
    "car_data = car_data[car_data['highway MPG'] != 354]\n",
    "\n",
    "# Check if any rows still contain 'highway MPG' equal to 354\n",
    "if (car_data['highway MPG'] == 354).any():\n",
    "    print(\"Some rows with 'highway MPG' equal to 354 still exist.\")\n",
    "else:\n",
    "    print(\"Row with 'highway MPG' equal to 354 has been removed.\")"
   ]
  },
  {
   "cell_type": "markdown",
   "metadata": {},
   "source": [
    "There are two distributions in the Highway MPG and City MPG columns. These represent gas vehicles and electric vehicles. Separating both colums by vehicle type makes sense because they are different measurements. "
   ]
  },
  {
   "cell_type": "code",
   "execution_count": 35,
   "metadata": {},
   "outputs": [
    {
     "data": {
      "text/plain": [
       "10920"
      ]
     },
     "execution_count": 35,
     "metadata": {},
     "output_type": "execute_result"
    }
   ],
   "source": [
    "len(car_data)"
   ]
  },
  {
   "cell_type": "code",
   "execution_count": 36,
   "metadata": {},
   "outputs": [
    {
     "data": {
      "text/plain": [
       "Engine Fuel Type\n",
       "regular unleaded                                6658\n",
       "premium unleaded (required)                     1698\n",
       "premium unleaded (recommended)                  1391\n",
       "flex-fuel (unleaded/E85)                         887\n",
       "diesel                                           150\n",
       "electric                                          66\n",
       "flex-fuel (premium unleaded required/E85)         33\n",
       "flex-fuel (premium unleaded recommended/E85)      26\n",
       "flex-fuel (unleaded/natural gas)                   6\n",
       "natural gas                                        2\n",
       "Name: count, dtype: int64"
      ]
     },
     "execution_count": 36,
     "metadata": {},
     "output_type": "execute_result"
    }
   ],
   "source": [
    "car_data['Engine Fuel Type'].value_counts()"
   ]
  },
  {
   "cell_type": "code",
   "execution_count": 37,
   "metadata": {},
   "outputs": [
    {
     "name": "stderr",
     "output_type": "stream",
     "text": [
      "C:\\Users\\ekiff\\AppData\\Local\\Temp\\ipykernel_15812\\3781274583.py:2: SettingWithCopyWarning: \n",
      "A value is trying to be set on a copy of a slice from a DataFrame.\n",
      "Try using .loc[row_indexer,col_indexer] = value instead\n",
      "\n",
      "See the caveats in the documentation: https://pandas.pydata.org/pandas-docs/stable/user_guide/indexing.html#returning-a-view-versus-a-copy\n",
      "  car_data.loc[:, 'Highway MPG Gas'] = np.where(car_data['highway MPG'] <= 65, car_data['highway MPG'], np.nan)\n",
      "C:\\Users\\ekiff\\AppData\\Local\\Temp\\ipykernel_15812\\3781274583.py:3: SettingWithCopyWarning: \n",
      "A value is trying to be set on a copy of a slice from a DataFrame.\n",
      "Try using .loc[row_indexer,col_indexer] = value instead\n",
      "\n",
      "See the caveats in the documentation: https://pandas.pydata.org/pandas-docs/stable/user_guide/indexing.html#returning-a-view-versus-a-copy\n",
      "  car_data.loc[:, 'Highway MPG Electric'] = np.where(car_data['highway MPG'] > 65, car_data['highway MPG'], np.nan)\n",
      "C:\\Users\\ekiff\\AppData\\Local\\Temp\\ipykernel_15812\\3781274583.py:6: SettingWithCopyWarning: \n",
      "A value is trying to be set on a copy of a slice from a DataFrame.\n",
      "Try using .loc[row_indexer,col_indexer] = value instead\n",
      "\n",
      "See the caveats in the documentation: https://pandas.pydata.org/pandas-docs/stable/user_guide/indexing.html#returning-a-view-versus-a-copy\n",
      "  car_data.loc[:, 'City MPG Gas'] = np.where(car_data['city mpg'] <= 65, car_data['city mpg'], np.nan)\n",
      "C:\\Users\\ekiff\\AppData\\Local\\Temp\\ipykernel_15812\\3781274583.py:7: SettingWithCopyWarning: \n",
      "A value is trying to be set on a copy of a slice from a DataFrame.\n",
      "Try using .loc[row_indexer,col_indexer] = value instead\n",
      "\n",
      "See the caveats in the documentation: https://pandas.pydata.org/pandas-docs/stable/user_guide/indexing.html#returning-a-view-versus-a-copy\n",
      "  car_data.loc[:, 'City MPG Electric'] = np.where(car_data['city mpg'] > 65, car_data['city mpg'], np.nan)\n"
     ]
    }
   ],
   "source": [
    "# Create highway MPG columns for Gas and Electric\n",
    "car_data.loc[:, 'Highway MPG Gas'] = np.where(car_data['highway MPG'] <= 65, car_data['highway MPG'], np.nan)\n",
    "car_data.loc[:, 'Highway MPG Electric'] = np.where(car_data['highway MPG'] > 65, car_data['highway MPG'], np.nan)\n",
    "\n",
    "# Create city MPG columns for Gas and Electric\n",
    "car_data.loc[:, 'City MPG Gas'] = np.where(car_data['city mpg'] <= 65, car_data['city mpg'], np.nan)\n",
    "car_data.loc[:, 'City MPG Electric'] = np.where(car_data['city mpg'] > 65, car_data['city mpg'], np.nan)"
   ]
  },
  {
   "cell_type": "code",
   "execution_count": 38,
   "metadata": {},
   "outputs": [],
   "source": [
    "# Drop the original MPG columns\n",
    "car_data = car_data.drop(['highway MPG', 'city mpg'], axis=1)"
   ]
  },
  {
   "cell_type": "code",
   "execution_count": 39,
   "metadata": {
    "scrolled": true
   },
   "outputs": [
    {
     "data": {
      "text/html": [
       "<div>\n",
       "<style scoped>\n",
       "    .dataframe tbody tr th:only-of-type {\n",
       "        vertical-align: middle;\n",
       "    }\n",
       "\n",
       "    .dataframe tbody tr th {\n",
       "        vertical-align: top;\n",
       "    }\n",
       "\n",
       "    .dataframe thead th {\n",
       "        text-align: right;\n",
       "    }\n",
       "</style>\n",
       "<table border=\"1\" class=\"dataframe\">\n",
       "  <thead>\n",
       "    <tr style=\"text-align: right;\">\n",
       "      <th></th>\n",
       "      <th>Make</th>\n",
       "      <th>Model</th>\n",
       "      <th>Year</th>\n",
       "      <th>Engine Fuel Type</th>\n",
       "      <th>Engine HP</th>\n",
       "      <th>Engine Cylinders</th>\n",
       "      <th>Transmission Type</th>\n",
       "      <th>Driven_Wheels</th>\n",
       "      <th>Number of Doors</th>\n",
       "      <th>Market Category</th>\n",
       "      <th>Vehicle Size</th>\n",
       "      <th>Vehicle Style</th>\n",
       "      <th>Popularity</th>\n",
       "      <th>MSRP</th>\n",
       "      <th>Highway MPG Gas</th>\n",
       "      <th>Highway MPG Electric</th>\n",
       "      <th>City MPG Gas</th>\n",
       "      <th>City MPG Electric</th>\n",
       "    </tr>\n",
       "  </thead>\n",
       "  <tbody>\n",
       "    <tr>\n",
       "      <th>7663</th>\n",
       "      <td>Toyota</td>\n",
       "      <td>Prius c</td>\n",
       "      <td>2014</td>\n",
       "      <td>regular unleaded</td>\n",
       "      <td>99.0</td>\n",
       "      <td>4.0</td>\n",
       "      <td>AUTOMATIC</td>\n",
       "      <td>front wheel drive</td>\n",
       "      <td>4.0</td>\n",
       "      <td>Hatchback,Hybrid</td>\n",
       "      <td>Compact</td>\n",
       "      <td>4dr Hatchback</td>\n",
       "      <td>2031</td>\n",
       "      <td>20030</td>\n",
       "      <td>46.0</td>\n",
       "      <td>NaN</td>\n",
       "      <td>53.0</td>\n",
       "      <td>NaN</td>\n",
       "    </tr>\n",
       "    <tr>\n",
       "      <th>7664</th>\n",
       "      <td>Toyota</td>\n",
       "      <td>Prius c</td>\n",
       "      <td>2014</td>\n",
       "      <td>regular unleaded</td>\n",
       "      <td>99.0</td>\n",
       "      <td>4.0</td>\n",
       "      <td>AUTOMATIC</td>\n",
       "      <td>front wheel drive</td>\n",
       "      <td>4.0</td>\n",
       "      <td>Hatchback,Hybrid</td>\n",
       "      <td>Compact</td>\n",
       "      <td>4dr Hatchback</td>\n",
       "      <td>2031</td>\n",
       "      <td>19080</td>\n",
       "      <td>46.0</td>\n",
       "      <td>NaN</td>\n",
       "      <td>53.0</td>\n",
       "      <td>NaN</td>\n",
       "    </tr>\n",
       "    <tr>\n",
       "      <th>7665</th>\n",
       "      <td>Toyota</td>\n",
       "      <td>Prius c</td>\n",
       "      <td>2014</td>\n",
       "      <td>regular unleaded</td>\n",
       "      <td>99.0</td>\n",
       "      <td>4.0</td>\n",
       "      <td>AUTOMATIC</td>\n",
       "      <td>front wheel drive</td>\n",
       "      <td>4.0</td>\n",
       "      <td>Hatchback,Hybrid</td>\n",
       "      <td>Compact</td>\n",
       "      <td>4dr Hatchback</td>\n",
       "      <td>2031</td>\n",
       "      <td>21765</td>\n",
       "      <td>46.0</td>\n",
       "      <td>NaN</td>\n",
       "      <td>53.0</td>\n",
       "      <td>NaN</td>\n",
       "    </tr>\n",
       "    <tr>\n",
       "      <th>7666</th>\n",
       "      <td>Toyota</td>\n",
       "      <td>Prius c</td>\n",
       "      <td>2014</td>\n",
       "      <td>regular unleaded</td>\n",
       "      <td>99.0</td>\n",
       "      <td>4.0</td>\n",
       "      <td>AUTOMATIC</td>\n",
       "      <td>front wheel drive</td>\n",
       "      <td>4.0</td>\n",
       "      <td>Hatchback,Hybrid</td>\n",
       "      <td>Compact</td>\n",
       "      <td>4dr Hatchback</td>\n",
       "      <td>2031</td>\n",
       "      <td>23360</td>\n",
       "      <td>46.0</td>\n",
       "      <td>NaN</td>\n",
       "      <td>53.0</td>\n",
       "      <td>NaN</td>\n",
       "    </tr>\n",
       "    <tr>\n",
       "      <th>7667</th>\n",
       "      <td>Toyota</td>\n",
       "      <td>Prius c</td>\n",
       "      <td>2015</td>\n",
       "      <td>regular unleaded</td>\n",
       "      <td>99.0</td>\n",
       "      <td>4.0</td>\n",
       "      <td>AUTOMATIC</td>\n",
       "      <td>front wheel drive</td>\n",
       "      <td>4.0</td>\n",
       "      <td>Hatchback,Hybrid</td>\n",
       "      <td>Compact</td>\n",
       "      <td>4dr Hatchback</td>\n",
       "      <td>2031</td>\n",
       "      <td>20340</td>\n",
       "      <td>46.0</td>\n",
       "      <td>NaN</td>\n",
       "      <td>53.0</td>\n",
       "      <td>NaN</td>\n",
       "    </tr>\n",
       "  </tbody>\n",
       "</table>\n",
       "</div>"
      ],
      "text/plain": [
       "        Make    Model  Year  Engine Fuel Type  Engine HP  Engine Cylinders  \\\n",
       "7663  Toyota  Prius c  2014  regular unleaded       99.0               4.0   \n",
       "7664  Toyota  Prius c  2014  regular unleaded       99.0               4.0   \n",
       "7665  Toyota  Prius c  2014  regular unleaded       99.0               4.0   \n",
       "7666  Toyota  Prius c  2014  regular unleaded       99.0               4.0   \n",
       "7667  Toyota  Prius c  2015  regular unleaded       99.0               4.0   \n",
       "\n",
       "     Transmission Type      Driven_Wheels  Number of Doors   Market Category  \\\n",
       "7663         AUTOMATIC  front wheel drive              4.0  Hatchback,Hybrid   \n",
       "7664         AUTOMATIC  front wheel drive              4.0  Hatchback,Hybrid   \n",
       "7665         AUTOMATIC  front wheel drive              4.0  Hatchback,Hybrid   \n",
       "7666         AUTOMATIC  front wheel drive              4.0  Hatchback,Hybrid   \n",
       "7667         AUTOMATIC  front wheel drive              4.0  Hatchback,Hybrid   \n",
       "\n",
       "     Vehicle Size  Vehicle Style  Popularity   MSRP  Highway MPG Gas  \\\n",
       "7663      Compact  4dr Hatchback        2031  20030             46.0   \n",
       "7664      Compact  4dr Hatchback        2031  19080             46.0   \n",
       "7665      Compact  4dr Hatchback        2031  21765             46.0   \n",
       "7666      Compact  4dr Hatchback        2031  23360             46.0   \n",
       "7667      Compact  4dr Hatchback        2031  20340             46.0   \n",
       "\n",
       "      Highway MPG Electric  City MPG Gas  City MPG Electric  \n",
       "7663                   NaN          53.0                NaN  \n",
       "7664                   NaN          53.0                NaN  \n",
       "7665                   NaN          53.0                NaN  \n",
       "7666                   NaN          53.0                NaN  \n",
       "7667                   NaN          53.0                NaN  "
      ]
     },
     "execution_count": 39,
     "metadata": {},
     "output_type": "execute_result"
    }
   ],
   "source": [
    "# Double check that the vehicles that get great gas mileage (outliers) in the City MPG Gas column are not electric. We found hybrids.\n",
    "car_data[car_data['City MPG Gas'] > 50].head()"
   ]
  },
  {
   "cell_type": "markdown",
   "metadata": {},
   "source": [
    "### Popularity\n",
    "This column has no units and will not impact the pricing model so I will remove it."
   ]
  },
  {
   "cell_type": "code",
   "execution_count": 40,
   "metadata": {},
   "outputs": [],
   "source": [
    "car_data = car_data.drop(['Popularity'], axis=1)"
   ]
  },
  {
   "cell_type": "markdown",
   "metadata": {},
   "source": [
    "### Cylinders"
   ]
  },
  {
   "cell_type": "code",
   "execution_count": 41,
   "metadata": {},
   "outputs": [
    {
     "data": {
      "text/html": [
       "<div>\n",
       "<style scoped>\n",
       "    .dataframe tbody tr th:only-of-type {\n",
       "        vertical-align: middle;\n",
       "    }\n",
       "\n",
       "    .dataframe tbody tr th {\n",
       "        vertical-align: top;\n",
       "    }\n",
       "\n",
       "    .dataframe thead th {\n",
       "        text-align: right;\n",
       "    }\n",
       "</style>\n",
       "<table border=\"1\" class=\"dataframe\">\n",
       "  <thead>\n",
       "    <tr style=\"text-align: right;\">\n",
       "      <th></th>\n",
       "      <th>Make</th>\n",
       "      <th>Model</th>\n",
       "      <th>Year</th>\n",
       "      <th>Engine Fuel Type</th>\n",
       "      <th>Engine HP</th>\n",
       "      <th>Engine Cylinders</th>\n",
       "      <th>Transmission Type</th>\n",
       "      <th>Driven_Wheels</th>\n",
       "      <th>Number of Doors</th>\n",
       "      <th>Market Category</th>\n",
       "      <th>Vehicle Size</th>\n",
       "      <th>Vehicle Style</th>\n",
       "      <th>MSRP</th>\n",
       "      <th>Highway MPG Gas</th>\n",
       "      <th>Highway MPG Electric</th>\n",
       "      <th>City MPG Gas</th>\n",
       "      <th>City MPG Electric</th>\n",
       "    </tr>\n",
       "  </thead>\n",
       "  <tbody>\n",
       "    <tr>\n",
       "      <th>539</th>\n",
       "      <td>FIAT</td>\n",
       "      <td>500e</td>\n",
       "      <td>2015</td>\n",
       "      <td>electric</td>\n",
       "      <td>249.38607</td>\n",
       "      <td>0.0</td>\n",
       "      <td>DIRECT_DRIVE</td>\n",
       "      <td>front wheel drive</td>\n",
       "      <td>2.0</td>\n",
       "      <td>Hatchback</td>\n",
       "      <td>Compact</td>\n",
       "      <td>2dr Hatchback</td>\n",
       "      <td>31800</td>\n",
       "      <td>NaN</td>\n",
       "      <td>108.0</td>\n",
       "      <td>NaN</td>\n",
       "      <td>122.0</td>\n",
       "    </tr>\n",
       "    <tr>\n",
       "      <th>540</th>\n",
       "      <td>FIAT</td>\n",
       "      <td>500e</td>\n",
       "      <td>2016</td>\n",
       "      <td>electric</td>\n",
       "      <td>249.38607</td>\n",
       "      <td>0.0</td>\n",
       "      <td>DIRECT_DRIVE</td>\n",
       "      <td>front wheel drive</td>\n",
       "      <td>2.0</td>\n",
       "      <td>Hatchback</td>\n",
       "      <td>Compact</td>\n",
       "      <td>2dr Hatchback</td>\n",
       "      <td>31800</td>\n",
       "      <td>NaN</td>\n",
       "      <td>103.0</td>\n",
       "      <td>NaN</td>\n",
       "      <td>121.0</td>\n",
       "    </tr>\n",
       "    <tr>\n",
       "      <th>541</th>\n",
       "      <td>FIAT</td>\n",
       "      <td>500e</td>\n",
       "      <td>2017</td>\n",
       "      <td>electric</td>\n",
       "      <td>249.38607</td>\n",
       "      <td>0.0</td>\n",
       "      <td>DIRECT_DRIVE</td>\n",
       "      <td>front wheel drive</td>\n",
       "      <td>2.0</td>\n",
       "      <td>Hatchback</td>\n",
       "      <td>Compact</td>\n",
       "      <td>2dr Hatchback</td>\n",
       "      <td>31800</td>\n",
       "      <td>NaN</td>\n",
       "      <td>103.0</td>\n",
       "      <td>NaN</td>\n",
       "      <td>121.0</td>\n",
       "    </tr>\n",
       "    <tr>\n",
       "      <th>1680</th>\n",
       "      <td>Mercedes-Benz</td>\n",
       "      <td>B-Class Electric Drive</td>\n",
       "      <td>2015</td>\n",
       "      <td>electric</td>\n",
       "      <td>177.00000</td>\n",
       "      <td>0.0</td>\n",
       "      <td>DIRECT_DRIVE</td>\n",
       "      <td>front wheel drive</td>\n",
       "      <td>4.0</td>\n",
       "      <td>Hatchback,Luxury</td>\n",
       "      <td>Compact</td>\n",
       "      <td>4dr Hatchback</td>\n",
       "      <td>41450</td>\n",
       "      <td>NaN</td>\n",
       "      <td>82.0</td>\n",
       "      <td>NaN</td>\n",
       "      <td>85.0</td>\n",
       "    </tr>\n",
       "    <tr>\n",
       "      <th>1681</th>\n",
       "      <td>Mercedes-Benz</td>\n",
       "      <td>B-Class Electric Drive</td>\n",
       "      <td>2016</td>\n",
       "      <td>electric</td>\n",
       "      <td>177.00000</td>\n",
       "      <td>0.0</td>\n",
       "      <td>DIRECT_DRIVE</td>\n",
       "      <td>front wheel drive</td>\n",
       "      <td>4.0</td>\n",
       "      <td>Hatchback,Luxury</td>\n",
       "      <td>Compact</td>\n",
       "      <td>4dr Hatchback</td>\n",
       "      <td>41450</td>\n",
       "      <td>NaN</td>\n",
       "      <td>82.0</td>\n",
       "      <td>NaN</td>\n",
       "      <td>85.0</td>\n",
       "    </tr>\n",
       "  </tbody>\n",
       "</table>\n",
       "</div>"
      ],
      "text/plain": [
       "               Make                   Model  Year Engine Fuel Type  Engine HP  \\\n",
       "539            FIAT                    500e  2015         electric  249.38607   \n",
       "540            FIAT                    500e  2016         electric  249.38607   \n",
       "541            FIAT                    500e  2017         electric  249.38607   \n",
       "1680  Mercedes-Benz  B-Class Electric Drive  2015         electric  177.00000   \n",
       "1681  Mercedes-Benz  B-Class Electric Drive  2016         electric  177.00000   \n",
       "\n",
       "      Engine Cylinders Transmission Type      Driven_Wheels  Number of Doors  \\\n",
       "539                0.0      DIRECT_DRIVE  front wheel drive              2.0   \n",
       "540                0.0      DIRECT_DRIVE  front wheel drive              2.0   \n",
       "541                0.0      DIRECT_DRIVE  front wheel drive              2.0   \n",
       "1680               0.0      DIRECT_DRIVE  front wheel drive              4.0   \n",
       "1681               0.0      DIRECT_DRIVE  front wheel drive              4.0   \n",
       "\n",
       "       Market Category Vehicle Size  Vehicle Style   MSRP  Highway MPG Gas  \\\n",
       "539          Hatchback      Compact  2dr Hatchback  31800              NaN   \n",
       "540          Hatchback      Compact  2dr Hatchback  31800              NaN   \n",
       "541          Hatchback      Compact  2dr Hatchback  31800              NaN   \n",
       "1680  Hatchback,Luxury      Compact  4dr Hatchback  41450              NaN   \n",
       "1681  Hatchback,Luxury      Compact  4dr Hatchback  41450              NaN   \n",
       "\n",
       "      Highway MPG Electric  City MPG Gas  City MPG Electric  \n",
       "539                  108.0           NaN              122.0  \n",
       "540                  103.0           NaN              121.0  \n",
       "541                  103.0           NaN              121.0  \n",
       "1680                  82.0           NaN               85.0  \n",
       "1681                  82.0           NaN               85.0  "
      ]
     },
     "execution_count": 41,
     "metadata": {},
     "output_type": "execute_result"
    }
   ],
   "source": [
    "# Electric cars have 0 cylinders\n",
    "car_data[car_data['Engine Cylinders'] == 0].head()\n",
    "# Should I change the 0 to nan?"
   ]
  },
  {
   "cell_type": "markdown",
   "metadata": {},
   "source": [
    "All other number of cylinders in the data are valid. "
   ]
  },
  {
   "cell_type": "markdown",
   "metadata": {},
   "source": [
    "# Check distributions again"
   ]
  },
  {
   "cell_type": "code",
   "execution_count": 42,
   "metadata": {},
   "outputs": [
    {
     "data": {
      "image/png": "[encoded data removed]",
      "text/plain": [
       "<Figure size 1500x1000 with 9 Axes>"
      ]
     },
     "metadata": {},
     "output_type": "display_data"
    }
   ],
   "source": [
    "car_data.hist(figsize=(15,10))\n",
    "plt.subplots_adjust(hspace=0.5);"
   ]
  },
  {
   "cell_type": "markdown",
   "metadata": {},
   "source": [
    "Looks better! All these distributions are plausible and represent the vehices accuratley."
   ]
  },
  {
   "cell_type": "markdown",
   "metadata": {},
   "source": [
    "## Save data"
   ]
  },
  {
   "cell_type": "code",
   "execution_count": 43,
   "metadata": {},
   "outputs": [
    {
     "data": {
      "text/plain": [
       "(10920, 17)"
      ]
     },
     "execution_count": 43,
     "metadata": {},
     "output_type": "execute_result"
    }
   ],
   "source": [
    "car_data.shape"
   ]
  },
  {
   "cell_type": "markdown",
   "metadata": {},
   "source": [
    "Save this to your data directory, separately. Note that you were provided with the data in `raw_data` and you should saving derived data in a separate location. This guards against overwriting our original data."
   ]
  },
  {
   "cell_type": "code",
   "execution_count": 44,
   "metadata": {},
   "outputs": [
    {
     "name": "stdout",
     "output_type": "stream",
     "text": [
      "Writing file.  \"../data\\car_data_cleaned.csv\"\n"
     ]
    }
   ],
   "source": [
    "# save the data to a new csv file\n",
    "datapath = '../data'\n",
    "save_file(car_data, 'car_data_cleaned.csv', datapath)"
   ]
  }
 ],
 "metadata": {
  "kernelspec": {
   "display_name": "Python 3 (ipykernel)",
   "language": "python",
   "name": "python3"
  },
  "language_info": {
   "codemirror_mode": {
    "name": "ipython",
    "version": 3
   },
   "file_extension": ".py",
   "mimetype": "text/x-python",
   "name": "python",
   "nbconvert_exporter": "python",
   "pygments_lexer": "ipython3",
   "version": "3.11.5"
  },
  "toc": {
   "base_numbering": 1,
   "nav_menu": {},
   "number_sections": true,
   "sideBar": true,
   "skip_h1_title": false,
   "title_cell": "Table of Contents",
   "title_sidebar": "Contents",
   "toc_cell": false,
   "toc_position": {},
   "toc_section_display": true,
   "toc_window_display": true
  },
  "varInspector": {
   "cols": {
    "lenName": 16,
    "lenType": 16,
    "lenVar": 40
   },
   "kernels_config": {
    "python": {
     "delete_cmd_postfix": "",
     "delete_cmd_prefix": "del ",
     "library": "var_list.py",
     "varRefreshCmd": "print(var_dic_list())"
    },
    "r": {
     "delete_cmd_postfix": ") ",
     "delete_cmd_prefix": "rm(",
     "library": "var_list.r",
     "varRefreshCmd": "cat(var_dic_list()) "
    }
   },
   "types_to_exclude": [
    "module",
    "function",
    "builtin_function_or_method",
    "instance",
    "_Feature"
   ],
   "window_display": false
  }
 },
 "nbformat": 4,
 "nbformat_minor": 4
}
